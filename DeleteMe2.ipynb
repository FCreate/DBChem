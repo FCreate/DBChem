{
 "cells": [
  {
   "cell_type": "code",
   "execution_count": 3,
   "metadata": {},
   "outputs": [],
   "source": [
    "import pandas as pd\n",
    "import numpy as np\n",
    "import sqlite3\n",
    "import io\n",
    "import numpy.ma as ma\n",
    "def adapt_array(arr):\n",
    "    out = io.BytesIO()\n",
    "    np.save(out, arr)\n",
    "    out.seek(0)\n",
    "    return sqlite3.Binary(out.read())\n",
    "\n",
    "def convert_array(text):\n",
    "    out = io.BytesIO(text)\n",
    "    out.seek(0)\n",
    "    return np.load(out)\n",
    "\n",
    "sqlite3.register_adapter(np.ndarray, adapt_array)\n",
    "sqlite3.register_converter(\"array\", convert_array)\n",
    "\n",
    "\n",
    "conn = sqlite3.connect(\"chemdatabase_copy.db\", detect_types=sqlite3.PARSE_DECLTYPES)\n",
    "cursor = conn.cursor()\n"
   ]
  },
  {
   "cell_type": "code",
   "execution_count": 2,
   "metadata": {},
   "outputs": [],
   "source": [
    "import yaml\n",
    "\n",
    "with open(\"config_endpoints.yml\", 'r') as ymlfile:\n",
    "    cfg = yaml.load(ymlfile)\n"
   ]
  },
  {
   "cell_type": "code",
   "execution_count": 3,
   "metadata": {},
   "outputs": [],
   "source": [
    "endpoints_list = cfg[\"endpoints_list\"]"
   ]
  },
  {
   "cell_type": "code",
   "execution_count": 4,
   "metadata": {},
   "outputs": [
    {
     "data": {
      "text/plain": [
       "['o_mus_ipr_LD',\n",
       " 'o_rat_orl_TDLo',\n",
       " 'o_mus_ipr_LDLo',\n",
       " 'o_mus_orl_TDLo',\n",
       " 'o_rat_ipr_TDLo']"
      ]
     },
     "execution_count": 4,
     "metadata": {},
     "output_type": "execute_result"
    }
   ],
   "source": [
    "endpoints_list"
   ]
  },
  {
   "cell_type": "code",
   "execution_count": 5,
   "metadata": {},
   "outputs": [
    {
     "ename": "SyntaxError",
     "evalue": "invalid syntax (<ipython-input-5-3c3b79463d1a>, line 1)",
     "output_type": "error",
     "traceback": [
      "\u001b[0;36m  File \u001b[0;32m\"<ipython-input-5-3c3b79463d1a>\"\u001b[0;36m, line \u001b[0;32m1\u001b[0m\n\u001b[0;31m    select * from endpoints\u001b[0m\n\u001b[0m                ^\u001b[0m\n\u001b[0;31mSyntaxError\u001b[0m\u001b[0;31m:\u001b[0m invalid syntax\n"
     ]
    }
   ],
   "source": [
    "select * from endpoints "
   ]
  },
  {
   "cell_type": "code",
   "execution_count": 6,
   "metadata": {},
   "outputs": [
    {
     "ename": "OperationalError",
     "evalue": "incomplete input",
     "output_type": "error",
     "traceback": [
      "\u001b[0;31m---------------------------------------------------------------------------\u001b[0m",
      "\u001b[0;31mOperationalError\u001b[0m                          Traceback (most recent call last)",
      "\u001b[0;32m<ipython-input-6-48e2038102c4>\u001b[0m in \u001b[0;36m<module>\u001b[0;34m\u001b[0m\n\u001b[0;32m----> 1\u001b[0;31m \u001b[0mcursor\u001b[0m\u001b[0;34m.\u001b[0m\u001b[0mexecute\u001b[0m\u001b[0;34m(\u001b[0m\u001b[0;34m\"select * from experimental_dat where \"\u001b[0m\u001b[0;34m)\u001b[0m\u001b[0;34m\u001b[0m\u001b[0;34m\u001b[0m\u001b[0m\n\u001b[0m",
      "\u001b[0;31mOperationalError\u001b[0m: incomplete input"
     ]
    }
   ],
   "source": [
    "cursor.execute(\"select * from experimental_dat where \")"
   ]
  },
  {
   "cell_type": "code",
   "execution_count": null,
   "metadata": {},
   "outputs": [],
   "source": []
  },
  {
   "cell_type": "code",
   "execution_count": 16,
   "metadata": {},
   "outputs": [],
   "source": [
    "from create_database import open_database"
   ]
  },
  {
   "cell_type": "code",
   "execution_count": 17,
   "metadata": {},
   "outputs": [
    {
     "data": {
      "text/plain": [
       "(<sqlite3.Connection at 0x7f694a0d92d0>, <sqlite3.Cursor at 0x7f694a1e1960>)"
      ]
     },
     "execution_count": 17,
     "metadata": {},
     "output_type": "execute_result"
    }
   ],
   "source": [
    "open_database(cfg[\"main\"][\"db_name\"])"
   ]
  },
  {
   "cell_type": "code",
   "execution_count": null,
   "metadata": {},
   "outputs": [],
   "source": []
  },
  {
   "cell_type": "code",
   "execution_count": 23,
   "metadata": {},
   "outputs": [
    {
     "data": {
      "text/plain": [
       "['o_mus_ipr_LD',\n",
       " 'o_rat_orl_TDLo',\n",
       " 'o_mus_ipr_LDLo',\n",
       " 'o_mus_orl_TDLo',\n",
       " 'o_rat_ipr_TDLo']"
      ]
     },
     "execution_count": 23,
     "metadata": {},
     "output_type": "execute_result"
    }
   ],
   "source": [
    "cfg['endpoints_list']"
   ]
  },
  {
   "cell_type": "code",
   "execution_count": 73,
   "metadata": {},
   "outputs": [
    {
     "name": "stdout",
     "output_type": "stream",
     "text": [
      "/home/workstation/Frolov/DBChem\n"
     ]
    }
   ],
   "source": [
    "!pwd"
   ]
  },
  {
   "cell_type": "code",
   "execution_count": null,
   "metadata": {},
   "outputs": [],
   "source": []
  },
  {
   "cell_type": "code",
   "execution_count": 3,
   "metadata": {},
   "outputs": [
    {
     "name": "stdout",
     "output_type": "stream",
     "text": [
      "mysql\n",
      "other\n",
      "{'host': 'localhost', 'user': 'root', 'passwd': 'my secret password', 'db': 'write-math'}\n",
      "{'preprocessing_queue': ['preprocessing.scale_and_center', 'preprocessing.dot_reduction', 'preprocessing.connect_lines'], 'use_anonymous': True}\n"
     ]
    }
   ],
   "source": [
    "\n",
    "for section in cfg:\n",
    "    print(section)\n",
    "print(cfg['mysql'])\n",
    "print(cfg['other'])"
   ]
  },
  {
   "cell_type": "code",
   "execution_count": 4,
   "metadata": {},
   "outputs": [
    {
     "data": {
      "text/plain": [
       "{'host': 'localhost',\n",
       " 'user': 'root',\n",
       " 'passwd': 'my secret password',\n",
       " 'db': 'write-math'}"
      ]
     },
     "execution_count": 4,
     "metadata": {},
     "output_type": "execute_result"
    }
   ],
   "source": [
    "cfg['mysql']"
   ]
  },
  {
   "cell_type": "code",
   "execution_count": 7,
   "metadata": {},
   "outputs": [
    {
     "ename": "KeyError",
     "evalue": "'preprocessing_queue'",
     "output_type": "error",
     "traceback": [
      "\u001b[0;31m---------------------------------------------------------------------------\u001b[0m",
      "\u001b[0;31mKeyError\u001b[0m                                  Traceback (most recent call last)",
      "\u001b[0;32m<ipython-input-7-a59c44723f6d>\u001b[0m in \u001b[0;36m<module>\u001b[0;34m\u001b[0m\n\u001b[0;32m----> 1\u001b[0;31m \u001b[0mcfg\u001b[0m\u001b[0;34m[\u001b[0m\u001b[0;34m'preprocessing_queue'\u001b[0m\u001b[0;34m]\u001b[0m\u001b[0;34m\u001b[0m\u001b[0;34m\u001b[0m\u001b[0m\n\u001b[0m",
      "\u001b[0;31mKeyError\u001b[0m: 'preprocessing_queue'"
     ]
    }
   ],
   "source": [
    "cfg['preprocessing_queue']"
   ]
  },
  {
   "cell_type": "code",
   "execution_count": 8,
   "metadata": {},
   "outputs": [
    {
     "data": {
      "text/plain": [
       "{'mysql': {'host': 'localhost',\n",
       "  'user': 'root',\n",
       "  'passwd': 'my secret password',\n",
       "  'db': 'write-math'},\n",
       " 'other': {'preprocessing_queue': ['preprocessing.scale_and_center',\n",
       "   'preprocessing.dot_reduction',\n",
       "   'preprocessing.connect_lines'],\n",
       "  'use_anonymous': True}}"
      ]
     },
     "execution_count": 8,
     "metadata": {},
     "output_type": "execute_result"
    }
   ],
   "source": [
    "cfg"
   ]
  },
  {
   "cell_type": "code",
   "execution_count": 7,
   "metadata": {},
   "outputs": [],
   "source": [
    "temp =cursor.execute(\"select * from endpoints\").fetchall()\n",
    "temp = [(data[0], data[1].strip()+\"_\"+data[2].strip()) for data in temp]\n",
    "NameOfEndpoint2db_index = {data[1]:data[0] for data in temp}\n"
   ]
  },
  {
   "cell_type": "code",
   "execution_count": null,
   "metadata": {},
   "outputs": [],
   "source": []
  },
  {
   "cell_type": "code",
   "execution_count": 32,
   "metadata": {},
   "outputs": [
    {
     "data": {
      "text/plain": [
       "1"
      ]
     },
     "execution_count": 32,
     "metadata": {},
     "output_type": "execute_result"
    }
   ],
   "source": [
    "NameOfEndpoint2db_index['o_mus_ipr_LD']"
   ]
  },
  {
   "cell_type": "code",
   "execution_count": null,
   "metadata": {},
   "outputs": [],
   "source": []
  },
  {
   "cell_type": "code",
   "execution_count": null,
   "metadata": {},
   "outputs": [],
   "source": [
    "['o_mus_ipr_LD']"
   ]
  },
  {
   "cell_type": "code",
   "execution_count": null,
   "metadata": {},
   "outputs": [],
   "source": []
  },
  {
   "cell_type": "code",
   "execution_count": 8,
   "metadata": {},
   "outputs": [],
   "source": [
    "indexes = [NameOfEndpoint2db_index[endpoint] for endpoint in cfg['endpoints_list']]"
   ]
  },
  {
   "cell_type": "code",
   "execution_count": 9,
   "metadata": {},
   "outputs": [
    {
     "data": {
      "text/plain": [
       "[1, 2, 3, 4, 5]"
      ]
     },
     "execution_count": 9,
     "metadata": {},
     "output_type": "execute_result"
    }
   ],
   "source": [
    "indexes"
   ]
  },
  {
   "cell_type": "code",
   "execution_count": 10,
   "metadata": {},
   "outputs": [
    {
     "data": {
      "text/plain": [
       "'(1, 2, 3, 4, 5)'"
      ]
     },
     "execution_count": 10,
     "metadata": {},
     "output_type": "execute_result"
    }
   ],
   "source": [
    "\"(\"+\", \".join(str(x) for x in indexes )+\")\""
   ]
  },
  {
   "cell_type": "code",
   "execution_count": null,
   "metadata": {},
   "outputs": [],
   "source": []
  },
  {
   "cell_type": "code",
   "execution_count": null,
   "metadata": {},
   "outputs": [],
   "source": []
  },
  {
   "cell_type": "code",
   "execution_count": 11,
   "metadata": {},
   "outputs": [],
   "source": [
    "temp =cursor.execute(\"select * from experimental_data where id_endpoint in \"+(\"(\"+\", \".join(str(x) for x in indexes )+\")\")).fetchall()"
   ]
  },
  {
   "cell_type": "code",
   "execution_count": 12,
   "metadata": {},
   "outputs": [
    {
     "data": {
      "text/plain": [
       "[(992, 1, 4.41),\n",
       " (10518, 1, 3.99),\n",
       " (61767, 1, 3.8),\n",
       " (44985, 1, 3.8),\n",
       " (34192, 1, 3.49)]"
      ]
     },
     "execution_count": 12,
     "metadata": {},
     "output_type": "execute_result"
    }
   ],
   "source": [
    "temp[:5]"
   ]
  },
  {
   "cell_type": "code",
   "execution_count": 13,
   "metadata": {},
   "outputs": [],
   "source": [
    "endpoints_dict = {}"
   ]
  },
  {
   "cell_type": "code",
   "execution_count": 14,
   "metadata": {},
   "outputs": [],
   "source": [
    "for data in temp:\n",
    "    if data[0] in endpoints_dict.keys():\n",
    "        endpoints_dict[data[0]].append((data[1],data[2]))\n",
    "    else:\n",
    "        endpoints_dict[data[0]] = [(data[1],data[2])]"
   ]
  },
  {
   "cell_type": "code",
   "execution_count": 15,
   "metadata": {},
   "outputs": [],
   "source": [
    "indexe = [x+1  for x in list(range(len(endpoints_list)))]"
   ]
  },
  {
   "cell_type": "code",
   "execution_count": null,
   "metadata": {},
   "outputs": [],
   "source": []
  },
  {
   "cell_type": "code",
   "execution_count": 16,
   "metadata": {},
   "outputs": [],
   "source": [
    "for key in endpoints_dict.keys():\n",
    "    vals = {idx: None for idx in indexe}\n",
    "    for elem in endpoints_dict[key]:\n",
    "        vals[elem[0]] = elem[1]\n",
    "    endpoints_dict[key] = list(vals.values())"
   ]
  },
  {
   "cell_type": "code",
   "execution_count": 17,
   "metadata": {},
   "outputs": [],
   "source": [
    "db_smiles = cursor.execute(\"select * from molecules\").fetchall()"
   ]
  },
  {
   "cell_type": "code",
   "execution_count": 18,
   "metadata": {},
   "outputs": [],
   "source": [
    "index2smiles = {smile[0]: smile[3] for smile in db_smiles}"
   ]
  },
  {
   "cell_type": "code",
   "execution_count": null,
   "metadata": {},
   "outputs": [],
   "source": []
  },
  {
   "cell_type": "code",
   "execution_count": 19,
   "metadata": {},
   "outputs": [],
   "source": [
    "endpoints_keys = list(endpoints_dict.keys())\n",
    "for key in endpoints_keys:\n",
    "    endpoints_dict[index2smiles[key]] = endpoints_dict.pop(key)"
   ]
  },
  {
   "cell_type": "code",
   "execution_count": 20,
   "metadata": {},
   "outputs": [
    {
     "data": {
      "text/plain": [
       "['o_mus_ipr_LD',\n",
       " 'o_rat_orl_TDLo',\n",
       " 'o_mus_ipr_LDLo',\n",
       " 'o_mus_orl_TDLo',\n",
       " 'o_rat_ipr_TDLo']"
      ]
     },
     "execution_count": 20,
     "metadata": {},
     "output_type": "execute_result"
    }
   ],
   "source": [
    "endpoints_list"
   ]
  },
  {
   "cell_type": "code",
   "execution_count": null,
   "metadata": {},
   "outputs": [],
   "source": []
  },
  {
   "cell_type": "code",
   "execution_count": 21,
   "metadata": {},
   "outputs": [],
   "source": [
    "df = pd.DataFrame.from_dict(endpoints_dict,orient=\"index\", columns=endpoints_list)"
   ]
  },
  {
   "cell_type": "code",
   "execution_count": 22,
   "metadata": {},
   "outputs": [],
   "source": [
    "df_tox = pd.read_csv(\"toxicity_85832.csv\")"
   ]
  },
  {
   "cell_type": "code",
   "execution_count": 27,
   "metadata": {},
   "outputs": [],
   "source": [
    "df_tox = df_tox.set_index(\"SMILES\", )"
   ]
  },
  {
   "cell_type": "code",
   "execution_count": 28,
   "metadata": {},
   "outputs": [
    {
     "data": {
      "text/html": [
       "<div>\n",
       "<style scoped>\n",
       "    .dataframe tbody tr th:only-of-type {\n",
       "        vertical-align: middle;\n",
       "    }\n",
       "\n",
       "    .dataframe tbody tr th {\n",
       "        vertical-align: top;\n",
       "    }\n",
       "\n",
       "    .dataframe thead th {\n",
       "        text-align: right;\n",
       "    }\n",
       "</style>\n",
       "<table border=\"1\" class=\"dataframe\">\n",
       "  <thead>\n",
       "    <tr style=\"text-align: right;\">\n",
       "      <th></th>\n",
       "      <th>o_mus_ipr_LD</th>\n",
       "      <th>o_rat_orl_TDLo</th>\n",
       "      <th>o_mus_ipr_LDLo</th>\n",
       "      <th>o_mus_orl_TDLo</th>\n",
       "      <th>o_rat_ipr_TDLo</th>\n",
       "      <th>o_mus_ivn_LD</th>\n",
       "      <th>o_rat_ipr_LD</th>\n",
       "      <th>o_mus_orl_LD</th>\n",
       "      <th>o_mus_unr_LD</th>\n",
       "      <th>o_rat_unr_LD</th>\n",
       "      <th>...</th>\n",
       "      <th>o_rbt_orl_LD</th>\n",
       "      <th>o_rbt_ivn_LD</th>\n",
       "      <th>o_rat_ivn_LD</th>\n",
       "      <th>o_mus_orl_LDLo</th>\n",
       "      <th>o_rat_skn_LD</th>\n",
       "      <th>o_mam_unr_LD</th>\n",
       "      <th>o_gpg_orl_LD</th>\n",
       "      <th>o_wmn_orl_TDLo</th>\n",
       "      <th>o_man_orl_TDLo</th>\n",
       "      <th>o_rat_scu_TDLo</th>\n",
       "    </tr>\n",
       "    <tr>\n",
       "      <th>SMILES</th>\n",
       "      <th></th>\n",
       "      <th></th>\n",
       "      <th></th>\n",
       "      <th></th>\n",
       "      <th></th>\n",
       "      <th></th>\n",
       "      <th></th>\n",
       "      <th></th>\n",
       "      <th></th>\n",
       "      <th></th>\n",
       "      <th></th>\n",
       "      <th></th>\n",
       "      <th></th>\n",
       "      <th></th>\n",
       "      <th></th>\n",
       "      <th></th>\n",
       "      <th></th>\n",
       "      <th></th>\n",
       "      <th></th>\n",
       "      <th></th>\n",
       "      <th></th>\n",
       "    </tr>\n",
       "  </thead>\n",
       "  <tbody>\n",
       "    <tr>\n",
       "      <th>Br.Br.Br.Br.N=C(N)SCCN(CCSC(=N)N)CCSC(=N)N</th>\n",
       "      <td>4.41</td>\n",
       "      <td>NaN</td>\n",
       "      <td>NaN</td>\n",
       "      <td>NaN</td>\n",
       "      <td>NaN</td>\n",
       "      <td>NaN</td>\n",
       "      <td>NaN</td>\n",
       "      <td>NaN</td>\n",
       "      <td>NaN</td>\n",
       "      <td>NaN</td>\n",
       "      <td>...</td>\n",
       "      <td>NaN</td>\n",
       "      <td>NaN</td>\n",
       "      <td>NaN</td>\n",
       "      <td>NaN</td>\n",
       "      <td>NaN</td>\n",
       "      <td>NaN</td>\n",
       "      <td>NaN</td>\n",
       "      <td>NaN</td>\n",
       "      <td>NaN</td>\n",
       "      <td>NaN</td>\n",
       "    </tr>\n",
       "    <tr>\n",
       "      <th>Br.Br.Br.CCN(CCSC(=N)N)CCSC(=N)N</th>\n",
       "      <td>3.99</td>\n",
       "      <td>NaN</td>\n",
       "      <td>NaN</td>\n",
       "      <td>NaN</td>\n",
       "      <td>NaN</td>\n",
       "      <td>NaN</td>\n",
       "      <td>NaN</td>\n",
       "      <td>NaN</td>\n",
       "      <td>NaN</td>\n",
       "      <td>NaN</td>\n",
       "      <td>...</td>\n",
       "      <td>NaN</td>\n",
       "      <td>NaN</td>\n",
       "      <td>NaN</td>\n",
       "      <td>NaN</td>\n",
       "      <td>NaN</td>\n",
       "      <td>NaN</td>\n",
       "      <td>NaN</td>\n",
       "      <td>NaN</td>\n",
       "      <td>NaN</td>\n",
       "      <td>NaN</td>\n",
       "    </tr>\n",
       "    <tr>\n",
       "      <th>Br.Br.Br.CN(CCSC(=N)N)CCSC(=N)N</th>\n",
       "      <td>3.80</td>\n",
       "      <td>NaN</td>\n",
       "      <td>NaN</td>\n",
       "      <td>NaN</td>\n",
       "      <td>NaN</td>\n",
       "      <td>NaN</td>\n",
       "      <td>NaN</td>\n",
       "      <td>NaN</td>\n",
       "      <td>NaN</td>\n",
       "      <td>NaN</td>\n",
       "      <td>...</td>\n",
       "      <td>NaN</td>\n",
       "      <td>NaN</td>\n",
       "      <td>NaN</td>\n",
       "      <td>NaN</td>\n",
       "      <td>NaN</td>\n",
       "      <td>NaN</td>\n",
       "      <td>NaN</td>\n",
       "      <td>NaN</td>\n",
       "      <td>NaN</td>\n",
       "      <td>NaN</td>\n",
       "    </tr>\n",
       "    <tr>\n",
       "      <th>Br.Br.Br.CNc1cnc(C)c(N)c1CSC(=N)N</th>\n",
       "      <td>NaN</td>\n",
       "      <td>NaN</td>\n",
       "      <td>NaN</td>\n",
       "      <td>NaN</td>\n",
       "      <td>NaN</td>\n",
       "      <td>NaN</td>\n",
       "      <td>NaN</td>\n",
       "      <td>NaN</td>\n",
       "      <td>4.04</td>\n",
       "      <td>NaN</td>\n",
       "      <td>...</td>\n",
       "      <td>NaN</td>\n",
       "      <td>NaN</td>\n",
       "      <td>NaN</td>\n",
       "      <td>NaN</td>\n",
       "      <td>NaN</td>\n",
       "      <td>NaN</td>\n",
       "      <td>NaN</td>\n",
       "      <td>NaN</td>\n",
       "      <td>NaN</td>\n",
       "      <td>NaN</td>\n",
       "    </tr>\n",
       "    <tr>\n",
       "      <th>Br.Br.Br.COc1ccc2[nH]cc(CCNC(=O)C(N)CSSCC(N)C(=O)NCCc3c[nH]c4ccc(OC)cc34)c2c1</th>\n",
       "      <td>NaN</td>\n",
       "      <td>NaN</td>\n",
       "      <td>NaN</td>\n",
       "      <td>NaN</td>\n",
       "      <td>NaN</td>\n",
       "      <td>4.27</td>\n",
       "      <td>NaN</td>\n",
       "      <td>NaN</td>\n",
       "      <td>NaN</td>\n",
       "      <td>NaN</td>\n",
       "      <td>...</td>\n",
       "      <td>NaN</td>\n",
       "      <td>NaN</td>\n",
       "      <td>NaN</td>\n",
       "      <td>NaN</td>\n",
       "      <td>NaN</td>\n",
       "      <td>NaN</td>\n",
       "      <td>NaN</td>\n",
       "      <td>NaN</td>\n",
       "      <td>NaN</td>\n",
       "      <td>NaN</td>\n",
       "    </tr>\n",
       "  </tbody>\n",
       "</table>\n",
       "<p>5 rows × 29 columns</p>\n",
       "</div>"
      ],
      "text/plain": [
       "                                                    o_mus_ipr_LD   \\\n",
       "SMILES                                                              \n",
       "Br.Br.Br.Br.N=C(N)SCCN(CCSC(=N)N)CCSC(=N)N                   4.41   \n",
       "Br.Br.Br.CCN(CCSC(=N)N)CCSC(=N)N                             3.99   \n",
       "Br.Br.Br.CN(CCSC(=N)N)CCSC(=N)N                              3.80   \n",
       "Br.Br.Br.CNc1cnc(C)c(N)c1CSC(=N)N                             NaN   \n",
       "Br.Br.Br.COc1ccc2[nH]cc(CCNC(=O)C(N)CSSCC(N)C(=...            NaN   \n",
       "\n",
       "                                                    o_rat_orl_TDLo   \\\n",
       "SMILES                                                                \n",
       "Br.Br.Br.Br.N=C(N)SCCN(CCSC(=N)N)CCSC(=N)N                      NaN   \n",
       "Br.Br.Br.CCN(CCSC(=N)N)CCSC(=N)N                                NaN   \n",
       "Br.Br.Br.CN(CCSC(=N)N)CCSC(=N)N                                 NaN   \n",
       "Br.Br.Br.CNc1cnc(C)c(N)c1CSC(=N)N                               NaN   \n",
       "Br.Br.Br.COc1ccc2[nH]cc(CCNC(=O)C(N)CSSCC(N)C(=...              NaN   \n",
       "\n",
       "                                                    o_mus_ipr_LDLo   \\\n",
       "SMILES                                                                \n",
       "Br.Br.Br.Br.N=C(N)SCCN(CCSC(=N)N)CCSC(=N)N                      NaN   \n",
       "Br.Br.Br.CCN(CCSC(=N)N)CCSC(=N)N                                NaN   \n",
       "Br.Br.Br.CN(CCSC(=N)N)CCSC(=N)N                                 NaN   \n",
       "Br.Br.Br.CNc1cnc(C)c(N)c1CSC(=N)N                               NaN   \n",
       "Br.Br.Br.COc1ccc2[nH]cc(CCNC(=O)C(N)CSSCC(N)C(=...              NaN   \n",
       "\n",
       "                                                    o_mus_orl_TDLo   \\\n",
       "SMILES                                                                \n",
       "Br.Br.Br.Br.N=C(N)SCCN(CCSC(=N)N)CCSC(=N)N                      NaN   \n",
       "Br.Br.Br.CCN(CCSC(=N)N)CCSC(=N)N                                NaN   \n",
       "Br.Br.Br.CN(CCSC(=N)N)CCSC(=N)N                                 NaN   \n",
       "Br.Br.Br.CNc1cnc(C)c(N)c1CSC(=N)N                               NaN   \n",
       "Br.Br.Br.COc1ccc2[nH]cc(CCNC(=O)C(N)CSSCC(N)C(=...              NaN   \n",
       "\n",
       "                                                    o_rat_ipr_TDLo   \\\n",
       "SMILES                                                                \n",
       "Br.Br.Br.Br.N=C(N)SCCN(CCSC(=N)N)CCSC(=N)N                      NaN   \n",
       "Br.Br.Br.CCN(CCSC(=N)N)CCSC(=N)N                                NaN   \n",
       "Br.Br.Br.CN(CCSC(=N)N)CCSC(=N)N                                 NaN   \n",
       "Br.Br.Br.CNc1cnc(C)c(N)c1CSC(=N)N                               NaN   \n",
       "Br.Br.Br.COc1ccc2[nH]cc(CCNC(=O)C(N)CSSCC(N)C(=...              NaN   \n",
       "\n",
       "                                                    o_mus_ivn_LD   \\\n",
       "SMILES                                                              \n",
       "Br.Br.Br.Br.N=C(N)SCCN(CCSC(=N)N)CCSC(=N)N                    NaN   \n",
       "Br.Br.Br.CCN(CCSC(=N)N)CCSC(=N)N                              NaN   \n",
       "Br.Br.Br.CN(CCSC(=N)N)CCSC(=N)N                               NaN   \n",
       "Br.Br.Br.CNc1cnc(C)c(N)c1CSC(=N)N                             NaN   \n",
       "Br.Br.Br.COc1ccc2[nH]cc(CCNC(=O)C(N)CSSCC(N)C(=...           4.27   \n",
       "\n",
       "                                                    o_rat_ipr_LD   \\\n",
       "SMILES                                                              \n",
       "Br.Br.Br.Br.N=C(N)SCCN(CCSC(=N)N)CCSC(=N)N                    NaN   \n",
       "Br.Br.Br.CCN(CCSC(=N)N)CCSC(=N)N                              NaN   \n",
       "Br.Br.Br.CN(CCSC(=N)N)CCSC(=N)N                               NaN   \n",
       "Br.Br.Br.CNc1cnc(C)c(N)c1CSC(=N)N                             NaN   \n",
       "Br.Br.Br.COc1ccc2[nH]cc(CCNC(=O)C(N)CSSCC(N)C(=...            NaN   \n",
       "\n",
       "                                                    o_mus_orl_LD   \\\n",
       "SMILES                                                              \n",
       "Br.Br.Br.Br.N=C(N)SCCN(CCSC(=N)N)CCSC(=N)N                    NaN   \n",
       "Br.Br.Br.CCN(CCSC(=N)N)CCSC(=N)N                              NaN   \n",
       "Br.Br.Br.CN(CCSC(=N)N)CCSC(=N)N                               NaN   \n",
       "Br.Br.Br.CNc1cnc(C)c(N)c1CSC(=N)N                             NaN   \n",
       "Br.Br.Br.COc1ccc2[nH]cc(CCNC(=O)C(N)CSSCC(N)C(=...            NaN   \n",
       "\n",
       "                                                    o_mus_unr_LD   \\\n",
       "SMILES                                                              \n",
       "Br.Br.Br.Br.N=C(N)SCCN(CCSC(=N)N)CCSC(=N)N                    NaN   \n",
       "Br.Br.Br.CCN(CCSC(=N)N)CCSC(=N)N                              NaN   \n",
       "Br.Br.Br.CN(CCSC(=N)N)CCSC(=N)N                               NaN   \n",
       "Br.Br.Br.CNc1cnc(C)c(N)c1CSC(=N)N                            4.04   \n",
       "Br.Br.Br.COc1ccc2[nH]cc(CCNC(=O)C(N)CSSCC(N)C(=...            NaN   \n",
       "\n",
       "                                                    o_rat_unr_LD   \\\n",
       "SMILES                                                              \n",
       "Br.Br.Br.Br.N=C(N)SCCN(CCSC(=N)N)CCSC(=N)N                    NaN   \n",
       "Br.Br.Br.CCN(CCSC(=N)N)CCSC(=N)N                              NaN   \n",
       "Br.Br.Br.CN(CCSC(=N)N)CCSC(=N)N                               NaN   \n",
       "Br.Br.Br.CNc1cnc(C)c(N)c1CSC(=N)N                             NaN   \n",
       "Br.Br.Br.COc1ccc2[nH]cc(CCNC(=O)C(N)CSSCC(N)C(=...            NaN   \n",
       "\n",
       "                                                         ...         \\\n",
       "SMILES                                                   ...          \n",
       "Br.Br.Br.Br.N=C(N)SCCN(CCSC(=N)N)CCSC(=N)N               ...          \n",
       "Br.Br.Br.CCN(CCSC(=N)N)CCSC(=N)N                         ...          \n",
       "Br.Br.Br.CN(CCSC(=N)N)CCSC(=N)N                          ...          \n",
       "Br.Br.Br.CNc1cnc(C)c(N)c1CSC(=N)N                        ...          \n",
       "Br.Br.Br.COc1ccc2[nH]cc(CCNC(=O)C(N)CSSCC(N)C(=...       ...          \n",
       "\n",
       "                                                    o_rbt_orl_LD   \\\n",
       "SMILES                                                              \n",
       "Br.Br.Br.Br.N=C(N)SCCN(CCSC(=N)N)CCSC(=N)N                    NaN   \n",
       "Br.Br.Br.CCN(CCSC(=N)N)CCSC(=N)N                              NaN   \n",
       "Br.Br.Br.CN(CCSC(=N)N)CCSC(=N)N                               NaN   \n",
       "Br.Br.Br.CNc1cnc(C)c(N)c1CSC(=N)N                             NaN   \n",
       "Br.Br.Br.COc1ccc2[nH]cc(CCNC(=O)C(N)CSSCC(N)C(=...            NaN   \n",
       "\n",
       "                                                    o_rbt_ivn_LD   \\\n",
       "SMILES                                                              \n",
       "Br.Br.Br.Br.N=C(N)SCCN(CCSC(=N)N)CCSC(=N)N                    NaN   \n",
       "Br.Br.Br.CCN(CCSC(=N)N)CCSC(=N)N                              NaN   \n",
       "Br.Br.Br.CN(CCSC(=N)N)CCSC(=N)N                               NaN   \n",
       "Br.Br.Br.CNc1cnc(C)c(N)c1CSC(=N)N                             NaN   \n",
       "Br.Br.Br.COc1ccc2[nH]cc(CCNC(=O)C(N)CSSCC(N)C(=...            NaN   \n",
       "\n",
       "                                                    o_rat_ivn_LD   \\\n",
       "SMILES                                                              \n",
       "Br.Br.Br.Br.N=C(N)SCCN(CCSC(=N)N)CCSC(=N)N                    NaN   \n",
       "Br.Br.Br.CCN(CCSC(=N)N)CCSC(=N)N                              NaN   \n",
       "Br.Br.Br.CN(CCSC(=N)N)CCSC(=N)N                               NaN   \n",
       "Br.Br.Br.CNc1cnc(C)c(N)c1CSC(=N)N                             NaN   \n",
       "Br.Br.Br.COc1ccc2[nH]cc(CCNC(=O)C(N)CSSCC(N)C(=...            NaN   \n",
       "\n",
       "                                                    o_mus_orl_LDLo   \\\n",
       "SMILES                                                                \n",
       "Br.Br.Br.Br.N=C(N)SCCN(CCSC(=N)N)CCSC(=N)N                      NaN   \n",
       "Br.Br.Br.CCN(CCSC(=N)N)CCSC(=N)N                                NaN   \n",
       "Br.Br.Br.CN(CCSC(=N)N)CCSC(=N)N                                 NaN   \n",
       "Br.Br.Br.CNc1cnc(C)c(N)c1CSC(=N)N                               NaN   \n",
       "Br.Br.Br.COc1ccc2[nH]cc(CCNC(=O)C(N)CSSCC(N)C(=...              NaN   \n",
       "\n",
       "                                                    o_rat_skn_LD   \\\n",
       "SMILES                                                              \n",
       "Br.Br.Br.Br.N=C(N)SCCN(CCSC(=N)N)CCSC(=N)N                    NaN   \n",
       "Br.Br.Br.CCN(CCSC(=N)N)CCSC(=N)N                              NaN   \n",
       "Br.Br.Br.CN(CCSC(=N)N)CCSC(=N)N                               NaN   \n",
       "Br.Br.Br.CNc1cnc(C)c(N)c1CSC(=N)N                             NaN   \n",
       "Br.Br.Br.COc1ccc2[nH]cc(CCNC(=O)C(N)CSSCC(N)C(=...            NaN   \n",
       "\n",
       "                                                    o_mam_unr_LD   \\\n",
       "SMILES                                                              \n",
       "Br.Br.Br.Br.N=C(N)SCCN(CCSC(=N)N)CCSC(=N)N                    NaN   \n",
       "Br.Br.Br.CCN(CCSC(=N)N)CCSC(=N)N                              NaN   \n",
       "Br.Br.Br.CN(CCSC(=N)N)CCSC(=N)N                               NaN   \n",
       "Br.Br.Br.CNc1cnc(C)c(N)c1CSC(=N)N                             NaN   \n",
       "Br.Br.Br.COc1ccc2[nH]cc(CCNC(=O)C(N)CSSCC(N)C(=...            NaN   \n",
       "\n",
       "                                                    o_gpg_orl_LD   \\\n",
       "SMILES                                                              \n",
       "Br.Br.Br.Br.N=C(N)SCCN(CCSC(=N)N)CCSC(=N)N                    NaN   \n",
       "Br.Br.Br.CCN(CCSC(=N)N)CCSC(=N)N                              NaN   \n",
       "Br.Br.Br.CN(CCSC(=N)N)CCSC(=N)N                               NaN   \n",
       "Br.Br.Br.CNc1cnc(C)c(N)c1CSC(=N)N                             NaN   \n",
       "Br.Br.Br.COc1ccc2[nH]cc(CCNC(=O)C(N)CSSCC(N)C(=...            NaN   \n",
       "\n",
       "                                                    o_wmn_orl_TDLo   \\\n",
       "SMILES                                                                \n",
       "Br.Br.Br.Br.N=C(N)SCCN(CCSC(=N)N)CCSC(=N)N                      NaN   \n",
       "Br.Br.Br.CCN(CCSC(=N)N)CCSC(=N)N                                NaN   \n",
       "Br.Br.Br.CN(CCSC(=N)N)CCSC(=N)N                                 NaN   \n",
       "Br.Br.Br.CNc1cnc(C)c(N)c1CSC(=N)N                               NaN   \n",
       "Br.Br.Br.COc1ccc2[nH]cc(CCNC(=O)C(N)CSSCC(N)C(=...              NaN   \n",
       "\n",
       "                                                    o_man_orl_TDLo   \\\n",
       "SMILES                                                                \n",
       "Br.Br.Br.Br.N=C(N)SCCN(CCSC(=N)N)CCSC(=N)N                      NaN   \n",
       "Br.Br.Br.CCN(CCSC(=N)N)CCSC(=N)N                                NaN   \n",
       "Br.Br.Br.CN(CCSC(=N)N)CCSC(=N)N                                 NaN   \n",
       "Br.Br.Br.CNc1cnc(C)c(N)c1CSC(=N)N                               NaN   \n",
       "Br.Br.Br.COc1ccc2[nH]cc(CCNC(=O)C(N)CSSCC(N)C(=...              NaN   \n",
       "\n",
       "                                                    o_rat_scu_TDLo   \n",
       "SMILES                                                               \n",
       "Br.Br.Br.Br.N=C(N)SCCN(CCSC(=N)N)CCSC(=N)N                      NaN  \n",
       "Br.Br.Br.CCN(CCSC(=N)N)CCSC(=N)N                                NaN  \n",
       "Br.Br.Br.CN(CCSC(=N)N)CCSC(=N)N                                 NaN  \n",
       "Br.Br.Br.CNc1cnc(C)c(N)c1CSC(=N)N                               NaN  \n",
       "Br.Br.Br.COc1ccc2[nH]cc(CCNC(=O)C(N)CSSCC(N)C(=...              NaN  \n",
       "\n",
       "[5 rows x 29 columns]"
      ]
     },
     "execution_count": 28,
     "metadata": {},
     "output_type": "execute_result"
    }
   ],
   "source": [
    "df_tox.head()"
   ]
  },
  {
   "cell_type": "code",
   "execution_count": null,
   "metadata": {},
   "outputs": [],
   "source": []
  },
  {
   "cell_type": "code",
   "execution_count": 29,
   "metadata": {},
   "outputs": [
    {
     "data": {
      "text/plain": [
       "o_mus_ipr_LD       4.41\n",
       "o_rat_orl_TDLo      NaN\n",
       "o_mus_ipr_LDLo      NaN\n",
       "o_mus_orl_TDLo      NaN\n",
       "o_rat_ipr_TDLo      NaN\n",
       "o_mus_ivn_LD        NaN\n",
       "o_rat_ipr_LD        NaN\n",
       "o_mus_orl_LD        NaN\n",
       "o_mus_unr_LD        NaN\n",
       "o_rat_unr_LD        NaN\n",
       "o_mus_scu_LDLo      NaN\n",
       "o_rat_scu_LD        NaN\n",
       "o_mus_scu_LD        NaN\n",
       "o_rat_ipr_LDLo      NaN\n",
       "o_mus_ipr_TDLo      NaN\n",
       "o_rbt_skn_LD        NaN\n",
       "o_rat_orl_LD        NaN\n",
       "o_rat_ivn_TDLo      NaN\n",
       "o_rat_orl_LDLo      NaN\n",
       "o_rbt_orl_LD        NaN\n",
       "o_rbt_ivn_LD        NaN\n",
       "o_rat_ivn_LD        NaN\n",
       "o_mus_orl_LDLo      NaN\n",
       "o_rat_skn_LD        NaN\n",
       "o_mam_unr_LD        NaN\n",
       "o_gpg_orl_LD        NaN\n",
       "o_wmn_orl_TDLo      NaN\n",
       "o_man_orl_TDLo      NaN\n",
       "o_rat_scu_TDLo      NaN\n",
       "Name: Br.Br.Br.Br.N=C(N)SCCN(CCSC(=N)N)CCSC(=N)N, dtype: float64"
      ]
     },
     "execution_count": 29,
     "metadata": {},
     "output_type": "execute_result"
    }
   ],
   "source": [
    "df_tox.loc[\"Br.Br.Br.Br.N=C(N)SCCN(CCSC(=N)N)CCSC(=N)N\"]"
   ]
  },
  {
   "cell_type": "code",
   "execution_count": 30,
   "metadata": {},
   "outputs": [
    {
     "data": {
      "text/plain": [
       "o_mus_ipr_LD      4.41\n",
       "o_rat_orl_TDLo     NaN\n",
       "o_mus_ipr_LDLo     NaN\n",
       "o_mus_orl_TDLo     NaN\n",
       "o_rat_ipr_TDLo     NaN\n",
       "Name: Br.Br.Br.Br.N=C(N)SCCN(CCSC(=N)N)CCSC(=N)N, dtype: float64"
      ]
     },
     "execution_count": 30,
     "metadata": {},
     "output_type": "execute_result"
    }
   ],
   "source": [
    "df.loc[\"Br.Br.Br.Br.N=C(N)SCCN(CCSC(=N)N)CCSC(=N)N\"]"
   ]
  },
  {
   "cell_type": "code",
   "execution_count": 31,
   "metadata": {},
   "outputs": [],
   "source": [
    "import numpy.ma as ma"
   ]
  },
  {
   "cell_type": "code",
   "execution_count": 32,
   "metadata": {},
   "outputs": [],
   "source": [
    "class OurRobustToNanScaler():\n",
    "    \"\"\"\n",
    "    This class is equal to StandardScaler from sklearn but can work with NaN's (ignoring it) but\n",
    "    sklearn's scaler can't do it.\n",
    "    \"\"\"\n",
    "    def fit(self, data):\n",
    "        masked = ma.masked_invalid(data)\n",
    "        self.means = np.mean(masked, axis=0)\n",
    "        self.stds = np.std(masked, axis=0)\n",
    "    \n",
    "    def fit_transform(self, data):\n",
    "        self.fit(data)\n",
    "        masked = ma.masked_invalid(data)\n",
    "        masked -= self.means\n",
    "        masked /= self.stds\n",
    "        return ma.getdata(masked)\n",
    "\n",
    "    def inverse_transform(self, data):\n",
    "        masked = ma.masked_invalid(data)\n",
    "        masked *= self.stds\n",
    "        masked += self.means\n",
    "        return ma.getdata(masked)"
   ]
  },
  {
   "cell_type": "code",
   "execution_count": 33,
   "metadata": {},
   "outputs": [
    {
     "data": {
      "text/plain": [
       "array([[4.41,  nan,  nan,  nan,  nan],\n",
       "       [3.99,  nan,  nan,  nan,  nan],\n",
       "       [3.8 ,  nan,  nan,  nan,  nan],\n",
       "       ...,\n",
       "       [2.83,  nan,  nan,  nan,  nan],\n",
       "       [2.26,  nan,  nan,  nan,  nan],\n",
       "       [2.7 ,  nan,  nan,  nan,  nan]])"
      ]
     },
     "execution_count": 33,
     "metadata": {},
     "output_type": "execute_result"
    }
   ],
   "source": [
    "df.values"
   ]
  },
  {
   "cell_type": "code",
   "execution_count": null,
   "metadata": {},
   "outputs": [],
   "source": []
  },
  {
   "cell_type": "code",
   "execution_count": 34,
   "metadata": {},
   "outputs": [],
   "source": [
    "scaler = OurRobustToNanScaler()"
   ]
  },
  {
   "cell_type": "code",
   "execution_count": 35,
   "metadata": {},
   "outputs": [],
   "source": [
    "scaler.fit(df.values)"
   ]
  },
  {
   "cell_type": "code",
   "execution_count": 36,
   "metadata": {},
   "outputs": [],
   "source": [
    "new_vals = scaler.fit_transform(df.values)"
   ]
  },
  {
   "cell_type": "code",
   "execution_count": 37,
   "metadata": {},
   "outputs": [
    {
     "data": {
      "text/plain": [
       "array([[ 1.96798376,         nan,         nan,         nan,         nan],\n",
       "       [ 1.36189809,         nan,         nan,         nan,         nan],\n",
       "       [ 1.08771648,         nan,         nan,         nan,         nan],\n",
       "       ...,\n",
       "       [-0.31205281,         nan,         nan,         nan,         nan],\n",
       "       [-1.13459764,         nan,         nan,         nan,         nan],\n",
       "       [-0.49965075,         nan,         nan,         nan,         nan]])"
      ]
     },
     "execution_count": 37,
     "metadata": {},
     "output_type": "execute_result"
    }
   ],
   "source": [
    "new_vals"
   ]
  },
  {
   "cell_type": "code",
   "execution_count": 39,
   "metadata": {},
   "outputs": [
    {
     "data": {
      "text/plain": [
       "array([[ 1.96798376,         nan,         nan,         nan,         nan],\n",
       "       [ 1.36189809,         nan,         nan,         nan,         nan],\n",
       "       [ 1.08771648,         nan,         nan,         nan,         nan],\n",
       "       ...,\n",
       "       [-0.31205281,         nan,         nan,         nan,         nan],\n",
       "       [-1.13459764,         nan,         nan,         nan,         nan],\n",
       "       [-0.49965075,         nan,         nan,         nan,         nan]])"
      ]
     },
     "execution_count": 39,
     "metadata": {},
     "output_type": "execute_result"
    }
   ],
   "source": [
    "new_vals"
   ]
  },
  {
   "cell_type": "code",
   "execution_count": null,
   "metadata": {},
   "outputs": [],
   "source": []
  },
  {
   "cell_type": "code",
   "execution_count": 40,
   "metadata": {},
   "outputs": [],
   "source": [
    "df[:][:] = new_vals"
   ]
  },
  {
   "cell_type": "code",
   "execution_count": 41,
   "metadata": {},
   "outputs": [
    {
     "data": {
      "text/html": [
       "<div>\n",
       "<style scoped>\n",
       "    .dataframe tbody tr th:only-of-type {\n",
       "        vertical-align: middle;\n",
       "    }\n",
       "\n",
       "    .dataframe tbody tr th {\n",
       "        vertical-align: top;\n",
       "    }\n",
       "\n",
       "    .dataframe thead th {\n",
       "        text-align: right;\n",
       "    }\n",
       "</style>\n",
       "<table border=\"1\" class=\"dataframe\">\n",
       "  <thead>\n",
       "    <tr style=\"text-align: right;\">\n",
       "      <th></th>\n",
       "      <th>o_mus_ipr_LD</th>\n",
       "      <th>o_rat_orl_TDLo</th>\n",
       "      <th>o_mus_ipr_LDLo</th>\n",
       "      <th>o_mus_orl_TDLo</th>\n",
       "      <th>o_rat_ipr_TDLo</th>\n",
       "    </tr>\n",
       "  </thead>\n",
       "  <tbody>\n",
       "    <tr>\n",
       "      <th>Br.Br.Br.Br.N=C(N)SCCN(CCSC(=N)N)CCSC(=N)N</th>\n",
       "      <td>1.967984</td>\n",
       "      <td>NaN</td>\n",
       "      <td>NaN</td>\n",
       "      <td>NaN</td>\n",
       "      <td>NaN</td>\n",
       "    </tr>\n",
       "    <tr>\n",
       "      <th>Br.Br.Br.CCN(CCSC(=N)N)CCSC(=N)N</th>\n",
       "      <td>1.361898</td>\n",
       "      <td>NaN</td>\n",
       "      <td>NaN</td>\n",
       "      <td>NaN</td>\n",
       "      <td>NaN</td>\n",
       "    </tr>\n",
       "    <tr>\n",
       "      <th>Br.Br.Br.CN(CCSC(=N)N)CCSC(=N)N</th>\n",
       "      <td>1.087716</td>\n",
       "      <td>NaN</td>\n",
       "      <td>NaN</td>\n",
       "      <td>NaN</td>\n",
       "      <td>NaN</td>\n",
       "    </tr>\n",
       "    <tr>\n",
       "      <th>Br.Br.Br.N=C(N)SCCCNCCNCC12CC3CC(CC(C3)C1)C2</th>\n",
       "      <td>1.087716</td>\n",
       "      <td>NaN</td>\n",
       "      <td>NaN</td>\n",
       "      <td>NaN</td>\n",
       "      <td>NaN</td>\n",
       "    </tr>\n",
       "    <tr>\n",
       "      <th>Br.Br.Br.N=C(N)SCCNCCSC(=N)N</th>\n",
       "      <td>0.640368</td>\n",
       "      <td>NaN</td>\n",
       "      <td>NaN</td>\n",
       "      <td>NaN</td>\n",
       "      <td>NaN</td>\n",
       "    </tr>\n",
       "  </tbody>\n",
       "</table>\n",
       "</div>"
      ],
      "text/plain": [
       "                                              o_mus_ipr_LD  o_rat_orl_TDLo  \\\n",
       "Br.Br.Br.Br.N=C(N)SCCN(CCSC(=N)N)CCSC(=N)N        1.967984             NaN   \n",
       "Br.Br.Br.CCN(CCSC(=N)N)CCSC(=N)N                  1.361898             NaN   \n",
       "Br.Br.Br.CN(CCSC(=N)N)CCSC(=N)N                   1.087716             NaN   \n",
       "Br.Br.Br.N=C(N)SCCCNCCNCC12CC3CC(CC(C3)C1)C2      1.087716             NaN   \n",
       "Br.Br.Br.N=C(N)SCCNCCSC(=N)N                      0.640368             NaN   \n",
       "\n",
       "                                              o_mus_ipr_LDLo  o_mus_orl_TDLo  \\\n",
       "Br.Br.Br.Br.N=C(N)SCCN(CCSC(=N)N)CCSC(=N)N               NaN             NaN   \n",
       "Br.Br.Br.CCN(CCSC(=N)N)CCSC(=N)N                         NaN             NaN   \n",
       "Br.Br.Br.CN(CCSC(=N)N)CCSC(=N)N                          NaN             NaN   \n",
       "Br.Br.Br.N=C(N)SCCCNCCNCC12CC3CC(CC(C3)C1)C2             NaN             NaN   \n",
       "Br.Br.Br.N=C(N)SCCNCCSC(=N)N                             NaN             NaN   \n",
       "\n",
       "                                              o_rat_ipr_TDLo  \n",
       "Br.Br.Br.Br.N=C(N)SCCN(CCSC(=N)N)CCSC(=N)N               NaN  \n",
       "Br.Br.Br.CCN(CCSC(=N)N)CCSC(=N)N                         NaN  \n",
       "Br.Br.Br.CN(CCSC(=N)N)CCSC(=N)N                          NaN  \n",
       "Br.Br.Br.N=C(N)SCCCNCCNCC12CC3CC(CC(C3)C1)C2             NaN  \n",
       "Br.Br.Br.N=C(N)SCCNCCSC(=N)N                             NaN  "
      ]
     },
     "execution_count": 41,
     "metadata": {},
     "output_type": "execute_result"
    }
   ],
   "source": [
    "df.head()"
   ]
  },
  {
   "cell_type": "code",
   "execution_count": 44,
   "metadata": {},
   "outputs": [],
   "source": [
    "smiles_ind = list(set([data[0] for data in temp]))"
   ]
  },
  {
   "cell_type": "code",
   "execution_count": 45,
   "metadata": {},
   "outputs": [],
   "source": [
    "descriptors = cursor.execute(\"select * from descriptors_values where id_molecule in \"+(\"(\"+\", \".join(str(x) for x in smiles_ind )+\")\")).fetchall()"
   ]
  },
  {
   "cell_type": "code",
   "execution_count": 46,
   "metadata": {},
   "outputs": [],
   "source": [
    "ind2descriptors = {index2smiles[data[0]]:np.nan_to_num(data[4]) for data in descriptors}"
   ]
  },
  {
   "cell_type": "code",
   "execution_count": 49,
   "metadata": {},
   "outputs": [],
   "source": [
    "smiles2descriptors = {index2smiles[data[0]]:np.nan_to_num(data[4])[0] for data in descriptors}"
   ]
  },
  {
   "cell_type": "code",
   "execution_count": 52,
   "metadata": {},
   "outputs": [],
   "source": [
    "arr_smiles_descriptors = list(smiles2descriptors.values())"
   ]
  },
  {
   "cell_type": "code",
   "execution_count": 57,
   "metadata": {},
   "outputs": [],
   "source": [
    "vstacked_smiles_descriptors = np.vstack(arr_smiles_descriptors)"
   ]
  },
  {
   "cell_type": "code",
   "execution_count": 58,
   "metadata": {},
   "outputs": [],
   "source": [
    "some_test = vstacked_smiles_descriptors[20340]"
   ]
  },
  {
   "cell_type": "code",
   "execution_count": 60,
   "metadata": {},
   "outputs": [],
   "source": [
    "smile = list(smiles2descriptors.keys())[20340]"
   ]
  },
  {
   "cell_type": "code",
   "execution_count": 61,
   "metadata": {},
   "outputs": [
    {
     "data": {
      "text/plain": [
       "True"
      ]
     },
     "execution_count": 61,
     "metadata": {},
     "output_type": "execute_result"
    }
   ],
   "source": [
    "all(smiles2descriptors[smile]==some_test)"
   ]
  },
  {
   "cell_type": "code",
   "execution_count": null,
   "metadata": {},
   "outputs": [],
   "source": []
  },
  {
   "cell_type": "code",
   "execution_count": null,
   "metadata": {},
   "outputs": [],
   "source": []
  },
  {
   "cell_type": "code",
   "execution_count": null,
   "metadata": {},
   "outputs": [],
   "source": [
    "vstacked_smiles_descriptors"
   ]
  },
  {
   "cell_type": "code",
   "execution_count": null,
   "metadata": {},
   "outputs": [],
   "source": []
  },
  {
   "cell_type": "code",
   "execution_count": null,
   "metadata": {},
   "outputs": [],
   "source": []
  },
  {
   "cell_type": "code",
   "execution_count": 213,
   "metadata": {},
   "outputs": [
    {
     "data": {
      "text/html": [
       "<div>\n",
       "<style scoped>\n",
       "    .dataframe tbody tr th:only-of-type {\n",
       "        vertical-align: middle;\n",
       "    }\n",
       "\n",
       "    .dataframe tbody tr th {\n",
       "        vertical-align: top;\n",
       "    }\n",
       "\n",
       "    .dataframe thead th {\n",
       "        text-align: right;\n",
       "    }\n",
       "</style>\n",
       "<table border=\"1\" class=\"dataframe\">\n",
       "  <thead>\n",
       "    <tr style=\"text-align: right;\">\n",
       "      <th></th>\n",
       "      <th>o_mus_ipr_LD</th>\n",
       "      <th>o_rat_orl_TDLo</th>\n",
       "      <th>o_mus_ipr_LDLo</th>\n",
       "      <th>o_mus_orl_TDLo</th>\n",
       "      <th>o_rat_ipr_TDLo</th>\n",
       "    </tr>\n",
       "  </thead>\n",
       "  <tbody>\n",
       "    <tr>\n",
       "      <th>Br.Br.Br.Br.N=C(N)SCCN(CCSC(=N)N)CCSC(=N)N</th>\n",
       "      <td>1.967984</td>\n",
       "      <td>NaN</td>\n",
       "      <td>NaN</td>\n",
       "      <td>NaN</td>\n",
       "      <td>NaN</td>\n",
       "    </tr>\n",
       "    <tr>\n",
       "      <th>Br.Br.Br.CCN(CCSC(=N)N)CCSC(=N)N</th>\n",
       "      <td>1.361898</td>\n",
       "      <td>NaN</td>\n",
       "      <td>NaN</td>\n",
       "      <td>NaN</td>\n",
       "      <td>NaN</td>\n",
       "    </tr>\n",
       "    <tr>\n",
       "      <th>Br.Br.Br.CN(CCSC(=N)N)CCSC(=N)N</th>\n",
       "      <td>1.087716</td>\n",
       "      <td>NaN</td>\n",
       "      <td>NaN</td>\n",
       "      <td>NaN</td>\n",
       "      <td>NaN</td>\n",
       "    </tr>\n",
       "    <tr>\n",
       "      <th>Br.Br.Br.N=C(N)SCCCNCCNCC12CC3CC(CC(C3)C1)C2</th>\n",
       "      <td>1.087716</td>\n",
       "      <td>NaN</td>\n",
       "      <td>NaN</td>\n",
       "      <td>NaN</td>\n",
       "      <td>NaN</td>\n",
       "    </tr>\n",
       "    <tr>\n",
       "      <th>Br.Br.Br.N=C(N)SCCNCCSC(=N)N</th>\n",
       "      <td>0.640368</td>\n",
       "      <td>NaN</td>\n",
       "      <td>NaN</td>\n",
       "      <td>NaN</td>\n",
       "      <td>NaN</td>\n",
       "    </tr>\n",
       "  </tbody>\n",
       "</table>\n",
       "</div>"
      ],
      "text/plain": [
       "                                              o_mus_ipr_LD  o_rat_orl_TDLo  \\\n",
       "Br.Br.Br.Br.N=C(N)SCCN(CCSC(=N)N)CCSC(=N)N        1.967984             NaN   \n",
       "Br.Br.Br.CCN(CCSC(=N)N)CCSC(=N)N                  1.361898             NaN   \n",
       "Br.Br.Br.CN(CCSC(=N)N)CCSC(=N)N                   1.087716             NaN   \n",
       "Br.Br.Br.N=C(N)SCCCNCCNCC12CC3CC(CC(C3)C1)C2      1.087716             NaN   \n",
       "Br.Br.Br.N=C(N)SCCNCCSC(=N)N                      0.640368             NaN   \n",
       "\n",
       "                                              o_mus_ipr_LDLo  o_mus_orl_TDLo  \\\n",
       "Br.Br.Br.Br.N=C(N)SCCN(CCSC(=N)N)CCSC(=N)N               NaN             NaN   \n",
       "Br.Br.Br.CCN(CCSC(=N)N)CCSC(=N)N                         NaN             NaN   \n",
       "Br.Br.Br.CN(CCSC(=N)N)CCSC(=N)N                          NaN             NaN   \n",
       "Br.Br.Br.N=C(N)SCCCNCCNCC12CC3CC(CC(C3)C1)C2             NaN             NaN   \n",
       "Br.Br.Br.N=C(N)SCCNCCSC(=N)N                             NaN             NaN   \n",
       "\n",
       "                                              o_rat_ipr_TDLo  \n",
       "Br.Br.Br.Br.N=C(N)SCCN(CCSC(=N)N)CCSC(=N)N               NaN  \n",
       "Br.Br.Br.CCN(CCSC(=N)N)CCSC(=N)N                         NaN  \n",
       "Br.Br.Br.CN(CCSC(=N)N)CCSC(=N)N                          NaN  \n",
       "Br.Br.Br.N=C(N)SCCCNCCNCC12CC3CC(CC(C3)C1)C2             NaN  \n",
       "Br.Br.Br.N=C(N)SCCNCCSC(=N)N                             NaN  "
      ]
     },
     "execution_count": 213,
     "metadata": {},
     "output_type": "execute_result"
    }
   ],
   "source": [
    "df.head()"
   ]
  },
  {
   "cell_type": "code",
   "execution_count": 228,
   "metadata": {},
   "outputs": [
    {
     "ename": "KeyboardInterrupt",
     "evalue": "",
     "output_type": "error",
     "traceback": [
      "\u001b[0;31m---------------------------------------------------------------------------\u001b[0m",
      "\u001b[0;31mKeyboardInterrupt\u001b[0m                         Traceback (most recent call last)",
      "\u001b[0;32m<ipython-input-228-9c3effbd8089>\u001b[0m in \u001b[0;36m<module>\u001b[0;34m\u001b[0m\n\u001b[0;32m----> 1\u001b[0;31m \u001b[0mdf_descriptors\u001b[0m \u001b[0;34m=\u001b[0m \u001b[0mpd\u001b[0m\u001b[0;34m.\u001b[0m\u001b[0mDataFrame\u001b[0m\u001b[0;34m.\u001b[0m\u001b[0mfrom_dict\u001b[0m\u001b[0;34m(\u001b[0m\u001b[0msmiles2descriptors\u001b[0m\u001b[0;34m,\u001b[0m \u001b[0morient\u001b[0m\u001b[0;34m=\u001b[0m\u001b[0;34m\"index\"\u001b[0m\u001b[0;34m)\u001b[0m\u001b[0;34m\u001b[0m\u001b[0;34m\u001b[0m\u001b[0m\n\u001b[0m",
      "\u001b[0;32m~/anaconda3/lib/python3.7/site-packages/pandas/core/frame.py\u001b[0m in \u001b[0;36mfrom_dict\u001b[0;34m(cls, data, orient, dtype, columns)\u001b[0m\n\u001b[1;32m    983\u001b[0m             \u001b[0;32mraise\u001b[0m \u001b[0mValueError\u001b[0m\u001b[0;34m(\u001b[0m\u001b[0;34m'only recognize index or columns for orient'\u001b[0m\u001b[0;34m)\u001b[0m\u001b[0;34m\u001b[0m\u001b[0;34m\u001b[0m\u001b[0m\n\u001b[1;32m    984\u001b[0m \u001b[0;34m\u001b[0m\u001b[0m\n\u001b[0;32m--> 985\u001b[0;31m         \u001b[0;32mreturn\u001b[0m \u001b[0mcls\u001b[0m\u001b[0;34m(\u001b[0m\u001b[0mdata\u001b[0m\u001b[0;34m,\u001b[0m \u001b[0mindex\u001b[0m\u001b[0;34m=\u001b[0m\u001b[0mindex\u001b[0m\u001b[0;34m,\u001b[0m \u001b[0mcolumns\u001b[0m\u001b[0;34m=\u001b[0m\u001b[0mcolumns\u001b[0m\u001b[0;34m,\u001b[0m \u001b[0mdtype\u001b[0m\u001b[0;34m=\u001b[0m\u001b[0mdtype\u001b[0m\u001b[0;34m)\u001b[0m\u001b[0;34m\u001b[0m\u001b[0;34m\u001b[0m\u001b[0m\n\u001b[0m\u001b[1;32m    986\u001b[0m \u001b[0;34m\u001b[0m\u001b[0m\n\u001b[1;32m    987\u001b[0m     \u001b[0;32mdef\u001b[0m \u001b[0mto_dict\u001b[0m\u001b[0;34m(\u001b[0m\u001b[0mself\u001b[0m\u001b[0;34m,\u001b[0m \u001b[0morient\u001b[0m\u001b[0;34m=\u001b[0m\u001b[0;34m'dict'\u001b[0m\u001b[0;34m,\u001b[0m \u001b[0minto\u001b[0m\u001b[0;34m=\u001b[0m\u001b[0mdict\u001b[0m\u001b[0;34m)\u001b[0m\u001b[0;34m:\u001b[0m\u001b[0;34m\u001b[0m\u001b[0;34m\u001b[0m\u001b[0m\n",
      "\u001b[0;32m~/anaconda3/lib/python3.7/site-packages/pandas/core/frame.py\u001b[0m in \u001b[0;36m__init__\u001b[0;34m(self, data, index, columns, dtype, copy)\u001b[0m\n\u001b[1;32m    385\u001b[0m                     \u001b[0;32mif\u001b[0m \u001b[0mis_named_tuple\u001b[0m\u001b[0;34m(\u001b[0m\u001b[0mdata\u001b[0m\u001b[0;34m[\u001b[0m\u001b[0;36m0\u001b[0m\u001b[0;34m]\u001b[0m\u001b[0;34m)\u001b[0m \u001b[0;32mand\u001b[0m \u001b[0mcolumns\u001b[0m \u001b[0;32mis\u001b[0m \u001b[0;32mNone\u001b[0m\u001b[0;34m:\u001b[0m\u001b[0;34m\u001b[0m\u001b[0;34m\u001b[0m\u001b[0m\n\u001b[1;32m    386\u001b[0m                         \u001b[0mcolumns\u001b[0m \u001b[0;34m=\u001b[0m \u001b[0mdata\u001b[0m\u001b[0;34m[\u001b[0m\u001b[0;36m0\u001b[0m\u001b[0;34m]\u001b[0m\u001b[0;34m.\u001b[0m\u001b[0m_fields\u001b[0m\u001b[0;34m\u001b[0m\u001b[0;34m\u001b[0m\u001b[0m\n\u001b[0;32m--> 387\u001b[0;31m                     \u001b[0marrays\u001b[0m\u001b[0;34m,\u001b[0m \u001b[0mcolumns\u001b[0m \u001b[0;34m=\u001b[0m \u001b[0m_to_arrays\u001b[0m\u001b[0;34m(\u001b[0m\u001b[0mdata\u001b[0m\u001b[0;34m,\u001b[0m \u001b[0mcolumns\u001b[0m\u001b[0;34m,\u001b[0m \u001b[0mdtype\u001b[0m\u001b[0;34m=\u001b[0m\u001b[0mdtype\u001b[0m\u001b[0;34m)\u001b[0m\u001b[0;34m\u001b[0m\u001b[0;34m\u001b[0m\u001b[0m\n\u001b[0m\u001b[1;32m    388\u001b[0m                     \u001b[0mcolumns\u001b[0m \u001b[0;34m=\u001b[0m \u001b[0m_ensure_index\u001b[0m\u001b[0;34m(\u001b[0m\u001b[0mcolumns\u001b[0m\u001b[0;34m)\u001b[0m\u001b[0;34m\u001b[0m\u001b[0;34m\u001b[0m\u001b[0m\n\u001b[1;32m    389\u001b[0m \u001b[0;34m\u001b[0m\u001b[0m\n",
      "\u001b[0;32m~/anaconda3/lib/python3.7/site-packages/pandas/core/frame.py\u001b[0m in \u001b[0;36m_to_arrays\u001b[0;34m(data, columns, coerce_float, dtype)\u001b[0m\n\u001b[1;32m   7473\u001b[0m     \u001b[0;32mif\u001b[0m \u001b[0misinstance\u001b[0m\u001b[0;34m(\u001b[0m\u001b[0mdata\u001b[0m\u001b[0;34m[\u001b[0m\u001b[0;36m0\u001b[0m\u001b[0;34m]\u001b[0m\u001b[0;34m,\u001b[0m \u001b[0;34m(\u001b[0m\u001b[0mlist\u001b[0m\u001b[0;34m,\u001b[0m \u001b[0mtuple\u001b[0m\u001b[0;34m)\u001b[0m\u001b[0;34m)\u001b[0m\u001b[0;34m:\u001b[0m\u001b[0;34m\u001b[0m\u001b[0;34m\u001b[0m\u001b[0m\n\u001b[1;32m   7474\u001b[0m         return _list_to_arrays(data, columns, coerce_float=coerce_float,\n\u001b[0;32m-> 7475\u001b[0;31m                                dtype=dtype)\n\u001b[0m\u001b[1;32m   7476\u001b[0m     \u001b[0;32melif\u001b[0m \u001b[0misinstance\u001b[0m\u001b[0;34m(\u001b[0m\u001b[0mdata\u001b[0m\u001b[0;34m[\u001b[0m\u001b[0;36m0\u001b[0m\u001b[0;34m]\u001b[0m\u001b[0;34m,\u001b[0m \u001b[0mcollections\u001b[0m\u001b[0;34m.\u001b[0m\u001b[0mMapping\u001b[0m\u001b[0;34m)\u001b[0m\u001b[0;34m:\u001b[0m\u001b[0;34m\u001b[0m\u001b[0;34m\u001b[0m\u001b[0m\n\u001b[1;32m   7477\u001b[0m         return _list_of_dict_to_arrays(data, columns,\n",
      "\u001b[0;32m~/anaconda3/lib/python3.7/site-packages/pandas/core/frame.py\u001b[0m in \u001b[0;36m_list_to_arrays\u001b[0;34m(data, columns, coerce_float, dtype)\u001b[0m\n\u001b[1;32m   7552\u001b[0m         \u001b[0mcontent\u001b[0m \u001b[0;34m=\u001b[0m \u001b[0mlist\u001b[0m\u001b[0;34m(\u001b[0m\u001b[0mlib\u001b[0m\u001b[0;34m.\u001b[0m\u001b[0mto_object_array\u001b[0m\u001b[0;34m(\u001b[0m\u001b[0mdata\u001b[0m\u001b[0;34m)\u001b[0m\u001b[0;34m.\u001b[0m\u001b[0mT\u001b[0m\u001b[0;34m)\u001b[0m\u001b[0;34m\u001b[0m\u001b[0;34m\u001b[0m\u001b[0m\n\u001b[1;32m   7553\u001b[0m     return _convert_object_array(content, columns, dtype=dtype,\n\u001b[0;32m-> 7554\u001b[0;31m                                  coerce_float=coerce_float)\n\u001b[0m\u001b[1;32m   7555\u001b[0m \u001b[0;34m\u001b[0m\u001b[0m\n\u001b[1;32m   7556\u001b[0m \u001b[0;34m\u001b[0m\u001b[0m\n",
      "\u001b[0;32m~/anaconda3/lib/python3.7/site-packages/pandas/core/frame.py\u001b[0m in \u001b[0;36m_convert_object_array\u001b[0;34m(content, columns, coerce_float, dtype)\u001b[0m\n\u001b[1;32m   7619\u001b[0m         \u001b[0;32mreturn\u001b[0m \u001b[0marr\u001b[0m\u001b[0;34m\u001b[0m\u001b[0;34m\u001b[0m\u001b[0m\n\u001b[1;32m   7620\u001b[0m \u001b[0;34m\u001b[0m\u001b[0m\n\u001b[0;32m-> 7621\u001b[0;31m     \u001b[0marrays\u001b[0m \u001b[0;34m=\u001b[0m \u001b[0;34m[\u001b[0m\u001b[0mconvert\u001b[0m\u001b[0;34m(\u001b[0m\u001b[0marr\u001b[0m\u001b[0;34m)\u001b[0m \u001b[0;32mfor\u001b[0m \u001b[0marr\u001b[0m \u001b[0;32min\u001b[0m \u001b[0mcontent\u001b[0m\u001b[0;34m]\u001b[0m\u001b[0;34m\u001b[0m\u001b[0;34m\u001b[0m\u001b[0m\n\u001b[0m\u001b[1;32m   7622\u001b[0m \u001b[0;34m\u001b[0m\u001b[0m\n\u001b[1;32m   7623\u001b[0m     \u001b[0;32mreturn\u001b[0m \u001b[0marrays\u001b[0m\u001b[0;34m,\u001b[0m \u001b[0mcolumns\u001b[0m\u001b[0;34m\u001b[0m\u001b[0;34m\u001b[0m\u001b[0m\n",
      "\u001b[0;32m~/anaconda3/lib/python3.7/site-packages/pandas/core/frame.py\u001b[0m in \u001b[0;36m<listcomp>\u001b[0;34m(.0)\u001b[0m\n\u001b[1;32m   7619\u001b[0m         \u001b[0;32mreturn\u001b[0m \u001b[0marr\u001b[0m\u001b[0;34m\u001b[0m\u001b[0;34m\u001b[0m\u001b[0m\n\u001b[1;32m   7620\u001b[0m \u001b[0;34m\u001b[0m\u001b[0m\n\u001b[0;32m-> 7621\u001b[0;31m     \u001b[0marrays\u001b[0m \u001b[0;34m=\u001b[0m \u001b[0;34m[\u001b[0m\u001b[0mconvert\u001b[0m\u001b[0;34m(\u001b[0m\u001b[0marr\u001b[0m\u001b[0;34m)\u001b[0m \u001b[0;32mfor\u001b[0m \u001b[0marr\u001b[0m \u001b[0;32min\u001b[0m \u001b[0mcontent\u001b[0m\u001b[0;34m]\u001b[0m\u001b[0;34m\u001b[0m\u001b[0;34m\u001b[0m\u001b[0m\n\u001b[0m\u001b[1;32m   7622\u001b[0m \u001b[0;34m\u001b[0m\u001b[0m\n\u001b[1;32m   7623\u001b[0m     \u001b[0;32mreturn\u001b[0m \u001b[0marrays\u001b[0m\u001b[0;34m,\u001b[0m \u001b[0mcolumns\u001b[0m\u001b[0;34m\u001b[0m\u001b[0;34m\u001b[0m\u001b[0m\n",
      "\u001b[0;32m~/anaconda3/lib/python3.7/site-packages/pandas/core/frame.py\u001b[0m in \u001b[0;36mconvert\u001b[0;34m(arr)\u001b[0m\n\u001b[1;32m   7615\u001b[0m     \u001b[0;32mdef\u001b[0m \u001b[0mconvert\u001b[0m\u001b[0;34m(\u001b[0m\u001b[0marr\u001b[0m\u001b[0;34m)\u001b[0m\u001b[0;34m:\u001b[0m\u001b[0;34m\u001b[0m\u001b[0;34m\u001b[0m\u001b[0m\n\u001b[1;32m   7616\u001b[0m         \u001b[0;32mif\u001b[0m \u001b[0mdtype\u001b[0m \u001b[0;34m!=\u001b[0m \u001b[0mobject\u001b[0m \u001b[0;32mand\u001b[0m \u001b[0mdtype\u001b[0m \u001b[0;34m!=\u001b[0m \u001b[0mnp\u001b[0m\u001b[0;34m.\u001b[0m\u001b[0mobject\u001b[0m\u001b[0;34m:\u001b[0m\u001b[0;34m\u001b[0m\u001b[0;34m\u001b[0m\u001b[0m\n\u001b[0;32m-> 7617\u001b[0;31m             \u001b[0marr\u001b[0m \u001b[0;34m=\u001b[0m \u001b[0mlib\u001b[0m\u001b[0;34m.\u001b[0m\u001b[0mmaybe_convert_objects\u001b[0m\u001b[0;34m(\u001b[0m\u001b[0marr\u001b[0m\u001b[0;34m,\u001b[0m \u001b[0mtry_float\u001b[0m\u001b[0;34m=\u001b[0m\u001b[0mcoerce_float\u001b[0m\u001b[0;34m)\u001b[0m\u001b[0;34m\u001b[0m\u001b[0;34m\u001b[0m\u001b[0m\n\u001b[0m\u001b[1;32m   7618\u001b[0m             \u001b[0marr\u001b[0m \u001b[0;34m=\u001b[0m \u001b[0mmaybe_cast_to_datetime\u001b[0m\u001b[0;34m(\u001b[0m\u001b[0marr\u001b[0m\u001b[0;34m,\u001b[0m \u001b[0mdtype\u001b[0m\u001b[0;34m)\u001b[0m\u001b[0;34m\u001b[0m\u001b[0;34m\u001b[0m\u001b[0m\n\u001b[1;32m   7619\u001b[0m         \u001b[0;32mreturn\u001b[0m \u001b[0marr\u001b[0m\u001b[0;34m\u001b[0m\u001b[0;34m\u001b[0m\u001b[0m\n",
      "\u001b[0;31mKeyboardInterrupt\u001b[0m: "
     ]
    }
   ],
   "source": [
    "df_descriptors = pd.DataFrame.from_dict(smiles2descriptors, orient=\"index\")"
   ]
  },
  {
   "cell_type": "code",
   "execution_count": 62,
   "metadata": {},
   "outputs": [],
   "source": [
    "import pickle"
   ]
  },
  {
   "cell_type": "code",
   "execution_count": 65,
   "metadata": {},
   "outputs": [],
   "source": [
    "with open(\"dickt.pk\", 'wb') as f:\n",
    "    pickle.dump(smiles2descriptors, f)"
   ]
  },
  {
   "cell_type": "code",
   "execution_count": 66,
   "metadata": {},
   "outputs": [],
   "source": [
    "del smiles2descriptors"
   ]
  },
  {
   "cell_type": "code",
   "execution_count": 67,
   "metadata": {},
   "outputs": [],
   "source": [
    "with open(\"dickt.pk\", 'rb') as f:\n",
    "    smiles2descriptors = pickle.load(f)"
   ]
  },
  {
   "cell_type": "code",
   "execution_count": 69,
   "metadata": {},
   "outputs": [
    {
     "data": {
      "text/plain": [
       "array([13.384261, 12.092147,  0.      , ..., 78.      ,  0.      ,\n",
       "        4.5     ], dtype=float32)"
      ]
     },
     "execution_count": 69,
     "metadata": {},
     "output_type": "execute_result"
    }
   ],
   "source": [
    "smiles2descriptors[\"Br.Br.Br.Br.N=C(N)SCCN(CCSC(=N)N)CCSC(=N)N\"]"
   ]
  },
  {
   "cell_type": "code",
   "execution_count": 70,
   "metadata": {},
   "outputs": [
    {
     "data": {
      "text/html": [
       "<div>\n",
       "<style scoped>\n",
       "    .dataframe tbody tr th:only-of-type {\n",
       "        vertical-align: middle;\n",
       "    }\n",
       "\n",
       "    .dataframe tbody tr th {\n",
       "        vertical-align: top;\n",
       "    }\n",
       "\n",
       "    .dataframe thead th {\n",
       "        text-align: right;\n",
       "    }\n",
       "</style>\n",
       "<table border=\"1\" class=\"dataframe\">\n",
       "  <thead>\n",
       "    <tr style=\"text-align: right;\">\n",
       "      <th></th>\n",
       "      <th>o_mus_ipr_LD</th>\n",
       "      <th>o_rat_orl_TDLo</th>\n",
       "      <th>o_mus_ipr_LDLo</th>\n",
       "      <th>o_mus_orl_TDLo</th>\n",
       "      <th>o_rat_ipr_TDLo</th>\n",
       "    </tr>\n",
       "  </thead>\n",
       "  <tbody>\n",
       "    <tr>\n",
       "      <th>Br.Br.Br.Br.N=C(N)SCCN(CCSC(=N)N)CCSC(=N)N</th>\n",
       "      <td>1.967984</td>\n",
       "      <td>NaN</td>\n",
       "      <td>NaN</td>\n",
       "      <td>NaN</td>\n",
       "      <td>NaN</td>\n",
       "    </tr>\n",
       "    <tr>\n",
       "      <th>Br.Br.Br.CCN(CCSC(=N)N)CCSC(=N)N</th>\n",
       "      <td>1.361898</td>\n",
       "      <td>NaN</td>\n",
       "      <td>NaN</td>\n",
       "      <td>NaN</td>\n",
       "      <td>NaN</td>\n",
       "    </tr>\n",
       "    <tr>\n",
       "      <th>Br.Br.Br.CN(CCSC(=N)N)CCSC(=N)N</th>\n",
       "      <td>1.087716</td>\n",
       "      <td>NaN</td>\n",
       "      <td>NaN</td>\n",
       "      <td>NaN</td>\n",
       "      <td>NaN</td>\n",
       "    </tr>\n",
       "    <tr>\n",
       "      <th>Br.Br.Br.N=C(N)SCCCNCCNCC12CC3CC(CC(C3)C1)C2</th>\n",
       "      <td>1.087716</td>\n",
       "      <td>NaN</td>\n",
       "      <td>NaN</td>\n",
       "      <td>NaN</td>\n",
       "      <td>NaN</td>\n",
       "    </tr>\n",
       "    <tr>\n",
       "      <th>Br.Br.Br.N=C(N)SCCNCCSC(=N)N</th>\n",
       "      <td>0.640368</td>\n",
       "      <td>NaN</td>\n",
       "      <td>NaN</td>\n",
       "      <td>NaN</td>\n",
       "      <td>NaN</td>\n",
       "    </tr>\n",
       "  </tbody>\n",
       "</table>\n",
       "</div>"
      ],
      "text/plain": [
       "                                              o_mus_ipr_LD  o_rat_orl_TDLo  \\\n",
       "Br.Br.Br.Br.N=C(N)SCCN(CCSC(=N)N)CCSC(=N)N        1.967984             NaN   \n",
       "Br.Br.Br.CCN(CCSC(=N)N)CCSC(=N)N                  1.361898             NaN   \n",
       "Br.Br.Br.CN(CCSC(=N)N)CCSC(=N)N                   1.087716             NaN   \n",
       "Br.Br.Br.N=C(N)SCCCNCCNCC12CC3CC(CC(C3)C1)C2      1.087716             NaN   \n",
       "Br.Br.Br.N=C(N)SCCNCCSC(=N)N                      0.640368             NaN   \n",
       "\n",
       "                                              o_mus_ipr_LDLo  o_mus_orl_TDLo  \\\n",
       "Br.Br.Br.Br.N=C(N)SCCN(CCSC(=N)N)CCSC(=N)N               NaN             NaN   \n",
       "Br.Br.Br.CCN(CCSC(=N)N)CCSC(=N)N                         NaN             NaN   \n",
       "Br.Br.Br.CN(CCSC(=N)N)CCSC(=N)N                          NaN             NaN   \n",
       "Br.Br.Br.N=C(N)SCCCNCCNCC12CC3CC(CC(C3)C1)C2             NaN             NaN   \n",
       "Br.Br.Br.N=C(N)SCCNCCSC(=N)N                             NaN             NaN   \n",
       "\n",
       "                                              o_rat_ipr_TDLo  \n",
       "Br.Br.Br.Br.N=C(N)SCCN(CCSC(=N)N)CCSC(=N)N               NaN  \n",
       "Br.Br.Br.CCN(CCSC(=N)N)CCSC(=N)N                         NaN  \n",
       "Br.Br.Br.CN(CCSC(=N)N)CCSC(=N)N                          NaN  \n",
       "Br.Br.Br.N=C(N)SCCCNCCNCC12CC3CC(CC(C3)C1)C2             NaN  \n",
       "Br.Br.Br.N=C(N)SCCNCCSC(=N)N                             NaN  "
      ]
     },
     "execution_count": 70,
     "metadata": {},
     "output_type": "execute_result"
    }
   ],
   "source": [
    "df.head()"
   ]
  },
  {
   "cell_type": "code",
   "execution_count": 78,
   "metadata": {},
   "outputs": [],
   "source": [
    "%load_ext autoreload\n"
   ]
  },
  {
   "cell_type": "code",
   "execution_count": 79,
   "metadata": {},
   "outputs": [],
   "source": [
    "%autoreload 2"
   ]
  },
  {
   "cell_type": "code",
   "execution_count": 4,
   "metadata": {},
   "outputs": [],
   "source": [
    "from get_data import get_data"
   ]
  },
  {
   "cell_type": "code",
   "execution_count": 5,
   "metadata": {},
   "outputs": [],
   "source": [
    "df, smiles2descriptors = get_data(\"config_endpoints.yml\")"
   ]
  },
  {
   "cell_type": "code",
   "execution_count": 4,
   "metadata": {},
   "outputs": [],
   "source": [
    "from get_data import OurRobustToNanScaler"
   ]
  },
  {
   "cell_type": "code",
   "execution_count": 6,
   "metadata": {},
   "outputs": [
    {
     "data": {
      "text/html": [
       "<div>\n",
       "<style scoped>\n",
       "    .dataframe tbody tr th:only-of-type {\n",
       "        vertical-align: middle;\n",
       "    }\n",
       "\n",
       "    .dataframe tbody tr th {\n",
       "        vertical-align: top;\n",
       "    }\n",
       "\n",
       "    .dataframe thead th {\n",
       "        text-align: right;\n",
       "    }\n",
       "</style>\n",
       "<table border=\"1\" class=\"dataframe\">\n",
       "  <thead>\n",
       "    <tr style=\"text-align: right;\">\n",
       "      <th></th>\n",
       "      <th>o_mus_ipr_LD</th>\n",
       "      <th>o_rat_orl_TDLo</th>\n",
       "      <th>o_mus_ipr_LDLo</th>\n",
       "      <th>o_mus_orl_TDLo</th>\n",
       "      <th>o_rat_ipr_TDLo</th>\n",
       "      <th>o_mus_ivn_LD</th>\n",
       "      <th>o_rat_ipr_LD</th>\n",
       "      <th>o_mus_orl_LD</th>\n",
       "      <th>o_mus_unr_LD</th>\n",
       "      <th>o_rat_unr_LD</th>\n",
       "      <th>...</th>\n",
       "      <th>o_rbt_orl_LD</th>\n",
       "      <th>o_rbt_ivn_LD</th>\n",
       "      <th>o_rat_ivn_LD</th>\n",
       "      <th>o_mus_orl_LDLo</th>\n",
       "      <th>o_rat_skn_LD</th>\n",
       "      <th>o_mam_unr_LD</th>\n",
       "      <th>o_gpg_orl_LD</th>\n",
       "      <th>o_wmn_orl_TDLo</th>\n",
       "      <th>o_man_orl_TDLo</th>\n",
       "      <th>o_rat_scu_TDLo</th>\n",
       "    </tr>\n",
       "  </thead>\n",
       "  <tbody>\n",
       "    <tr>\n",
       "      <th>Br.Br.Br.Br.N=C(N)SCCN(CCSC(=N)N)CCSC(=N)N</th>\n",
       "      <td>4.41</td>\n",
       "      <td>NaN</td>\n",
       "      <td>NaN</td>\n",
       "      <td>NaN</td>\n",
       "      <td>NaN</td>\n",
       "      <td>NaN</td>\n",
       "      <td>NaN</td>\n",
       "      <td>NaN</td>\n",
       "      <td>NaN</td>\n",
       "      <td>NaN</td>\n",
       "      <td>...</td>\n",
       "      <td>NaN</td>\n",
       "      <td>NaN</td>\n",
       "      <td>NaN</td>\n",
       "      <td>NaN</td>\n",
       "      <td>NaN</td>\n",
       "      <td>NaN</td>\n",
       "      <td>NaN</td>\n",
       "      <td>NaN</td>\n",
       "      <td>NaN</td>\n",
       "      <td>NaN</td>\n",
       "    </tr>\n",
       "    <tr>\n",
       "      <th>Br.Br.Br.CCN(CCSC(=N)N)CCSC(=N)N</th>\n",
       "      <td>3.99</td>\n",
       "      <td>NaN</td>\n",
       "      <td>NaN</td>\n",
       "      <td>NaN</td>\n",
       "      <td>NaN</td>\n",
       "      <td>NaN</td>\n",
       "      <td>NaN</td>\n",
       "      <td>NaN</td>\n",
       "      <td>NaN</td>\n",
       "      <td>NaN</td>\n",
       "      <td>...</td>\n",
       "      <td>NaN</td>\n",
       "      <td>NaN</td>\n",
       "      <td>NaN</td>\n",
       "      <td>NaN</td>\n",
       "      <td>NaN</td>\n",
       "      <td>NaN</td>\n",
       "      <td>NaN</td>\n",
       "      <td>NaN</td>\n",
       "      <td>NaN</td>\n",
       "      <td>NaN</td>\n",
       "    </tr>\n",
       "    <tr>\n",
       "      <th>Br.Br.Br.CN(CCSC(=N)N)CCSC(=N)N</th>\n",
       "      <td>3.80</td>\n",
       "      <td>NaN</td>\n",
       "      <td>NaN</td>\n",
       "      <td>NaN</td>\n",
       "      <td>NaN</td>\n",
       "      <td>NaN</td>\n",
       "      <td>NaN</td>\n",
       "      <td>NaN</td>\n",
       "      <td>NaN</td>\n",
       "      <td>NaN</td>\n",
       "      <td>...</td>\n",
       "      <td>NaN</td>\n",
       "      <td>NaN</td>\n",
       "      <td>NaN</td>\n",
       "      <td>NaN</td>\n",
       "      <td>NaN</td>\n",
       "      <td>NaN</td>\n",
       "      <td>NaN</td>\n",
       "      <td>NaN</td>\n",
       "      <td>NaN</td>\n",
       "      <td>NaN</td>\n",
       "    </tr>\n",
       "    <tr>\n",
       "      <th>Br.Br.Br.CNc1cnc(C)c(N)c1CSC(=N)N</th>\n",
       "      <td>NaN</td>\n",
       "      <td>NaN</td>\n",
       "      <td>NaN</td>\n",
       "      <td>NaN</td>\n",
       "      <td>NaN</td>\n",
       "      <td>NaN</td>\n",
       "      <td>NaN</td>\n",
       "      <td>NaN</td>\n",
       "      <td>4.04</td>\n",
       "      <td>NaN</td>\n",
       "      <td>...</td>\n",
       "      <td>NaN</td>\n",
       "      <td>NaN</td>\n",
       "      <td>NaN</td>\n",
       "      <td>NaN</td>\n",
       "      <td>NaN</td>\n",
       "      <td>NaN</td>\n",
       "      <td>NaN</td>\n",
       "      <td>NaN</td>\n",
       "      <td>NaN</td>\n",
       "      <td>NaN</td>\n",
       "    </tr>\n",
       "    <tr>\n",
       "      <th>Br.Br.Br.COc1ccc2[nH]cc(CCNC(=O)C(N)CSSCC(N)C(=O)NCCc3c[nH]c4ccc(OC)cc34)c2c1</th>\n",
       "      <td>NaN</td>\n",
       "      <td>NaN</td>\n",
       "      <td>NaN</td>\n",
       "      <td>NaN</td>\n",
       "      <td>NaN</td>\n",
       "      <td>4.27</td>\n",
       "      <td>NaN</td>\n",
       "      <td>NaN</td>\n",
       "      <td>NaN</td>\n",
       "      <td>NaN</td>\n",
       "      <td>...</td>\n",
       "      <td>NaN</td>\n",
       "      <td>NaN</td>\n",
       "      <td>NaN</td>\n",
       "      <td>NaN</td>\n",
       "      <td>NaN</td>\n",
       "      <td>NaN</td>\n",
       "      <td>NaN</td>\n",
       "      <td>NaN</td>\n",
       "      <td>NaN</td>\n",
       "      <td>NaN</td>\n",
       "    </tr>\n",
       "  </tbody>\n",
       "</table>\n",
       "<p>5 rows × 29 columns</p>\n",
       "</div>"
      ],
      "text/plain": [
       "                                                    o_mus_ipr_LD  \\\n",
       "Br.Br.Br.Br.N=C(N)SCCN(CCSC(=N)N)CCSC(=N)N                  4.41   \n",
       "Br.Br.Br.CCN(CCSC(=N)N)CCSC(=N)N                            3.99   \n",
       "Br.Br.Br.CN(CCSC(=N)N)CCSC(=N)N                             3.80   \n",
       "Br.Br.Br.CNc1cnc(C)c(N)c1CSC(=N)N                            NaN   \n",
       "Br.Br.Br.COc1ccc2[nH]cc(CCNC(=O)C(N)CSSCC(N)C(=...           NaN   \n",
       "\n",
       "                                                    o_rat_orl_TDLo  \\\n",
       "Br.Br.Br.Br.N=C(N)SCCN(CCSC(=N)N)CCSC(=N)N                     NaN   \n",
       "Br.Br.Br.CCN(CCSC(=N)N)CCSC(=N)N                               NaN   \n",
       "Br.Br.Br.CN(CCSC(=N)N)CCSC(=N)N                                NaN   \n",
       "Br.Br.Br.CNc1cnc(C)c(N)c1CSC(=N)N                              NaN   \n",
       "Br.Br.Br.COc1ccc2[nH]cc(CCNC(=O)C(N)CSSCC(N)C(=...             NaN   \n",
       "\n",
       "                                                    o_mus_ipr_LDLo  \\\n",
       "Br.Br.Br.Br.N=C(N)SCCN(CCSC(=N)N)CCSC(=N)N                     NaN   \n",
       "Br.Br.Br.CCN(CCSC(=N)N)CCSC(=N)N                               NaN   \n",
       "Br.Br.Br.CN(CCSC(=N)N)CCSC(=N)N                                NaN   \n",
       "Br.Br.Br.CNc1cnc(C)c(N)c1CSC(=N)N                              NaN   \n",
       "Br.Br.Br.COc1ccc2[nH]cc(CCNC(=O)C(N)CSSCC(N)C(=...             NaN   \n",
       "\n",
       "                                                    o_mus_orl_TDLo  \\\n",
       "Br.Br.Br.Br.N=C(N)SCCN(CCSC(=N)N)CCSC(=N)N                     NaN   \n",
       "Br.Br.Br.CCN(CCSC(=N)N)CCSC(=N)N                               NaN   \n",
       "Br.Br.Br.CN(CCSC(=N)N)CCSC(=N)N                                NaN   \n",
       "Br.Br.Br.CNc1cnc(C)c(N)c1CSC(=N)N                              NaN   \n",
       "Br.Br.Br.COc1ccc2[nH]cc(CCNC(=O)C(N)CSSCC(N)C(=...             NaN   \n",
       "\n",
       "                                                    o_rat_ipr_TDLo  \\\n",
       "Br.Br.Br.Br.N=C(N)SCCN(CCSC(=N)N)CCSC(=N)N                     NaN   \n",
       "Br.Br.Br.CCN(CCSC(=N)N)CCSC(=N)N                               NaN   \n",
       "Br.Br.Br.CN(CCSC(=N)N)CCSC(=N)N                                NaN   \n",
       "Br.Br.Br.CNc1cnc(C)c(N)c1CSC(=N)N                              NaN   \n",
       "Br.Br.Br.COc1ccc2[nH]cc(CCNC(=O)C(N)CSSCC(N)C(=...             NaN   \n",
       "\n",
       "                                                    o_mus_ivn_LD  \\\n",
       "Br.Br.Br.Br.N=C(N)SCCN(CCSC(=N)N)CCSC(=N)N                   NaN   \n",
       "Br.Br.Br.CCN(CCSC(=N)N)CCSC(=N)N                             NaN   \n",
       "Br.Br.Br.CN(CCSC(=N)N)CCSC(=N)N                              NaN   \n",
       "Br.Br.Br.CNc1cnc(C)c(N)c1CSC(=N)N                            NaN   \n",
       "Br.Br.Br.COc1ccc2[nH]cc(CCNC(=O)C(N)CSSCC(N)C(=...          4.27   \n",
       "\n",
       "                                                    o_rat_ipr_LD  \\\n",
       "Br.Br.Br.Br.N=C(N)SCCN(CCSC(=N)N)CCSC(=N)N                   NaN   \n",
       "Br.Br.Br.CCN(CCSC(=N)N)CCSC(=N)N                             NaN   \n",
       "Br.Br.Br.CN(CCSC(=N)N)CCSC(=N)N                              NaN   \n",
       "Br.Br.Br.CNc1cnc(C)c(N)c1CSC(=N)N                            NaN   \n",
       "Br.Br.Br.COc1ccc2[nH]cc(CCNC(=O)C(N)CSSCC(N)C(=...           NaN   \n",
       "\n",
       "                                                    o_mus_orl_LD  \\\n",
       "Br.Br.Br.Br.N=C(N)SCCN(CCSC(=N)N)CCSC(=N)N                   NaN   \n",
       "Br.Br.Br.CCN(CCSC(=N)N)CCSC(=N)N                             NaN   \n",
       "Br.Br.Br.CN(CCSC(=N)N)CCSC(=N)N                              NaN   \n",
       "Br.Br.Br.CNc1cnc(C)c(N)c1CSC(=N)N                            NaN   \n",
       "Br.Br.Br.COc1ccc2[nH]cc(CCNC(=O)C(N)CSSCC(N)C(=...           NaN   \n",
       "\n",
       "                                                    o_mus_unr_LD  \\\n",
       "Br.Br.Br.Br.N=C(N)SCCN(CCSC(=N)N)CCSC(=N)N                   NaN   \n",
       "Br.Br.Br.CCN(CCSC(=N)N)CCSC(=N)N                             NaN   \n",
       "Br.Br.Br.CN(CCSC(=N)N)CCSC(=N)N                              NaN   \n",
       "Br.Br.Br.CNc1cnc(C)c(N)c1CSC(=N)N                           4.04   \n",
       "Br.Br.Br.COc1ccc2[nH]cc(CCNC(=O)C(N)CSSCC(N)C(=...           NaN   \n",
       "\n",
       "                                                    o_rat_unr_LD  \\\n",
       "Br.Br.Br.Br.N=C(N)SCCN(CCSC(=N)N)CCSC(=N)N                   NaN   \n",
       "Br.Br.Br.CCN(CCSC(=N)N)CCSC(=N)N                             NaN   \n",
       "Br.Br.Br.CN(CCSC(=N)N)CCSC(=N)N                              NaN   \n",
       "Br.Br.Br.CNc1cnc(C)c(N)c1CSC(=N)N                            NaN   \n",
       "Br.Br.Br.COc1ccc2[nH]cc(CCNC(=O)C(N)CSSCC(N)C(=...           NaN   \n",
       "\n",
       "                                                         ...        \\\n",
       "Br.Br.Br.Br.N=C(N)SCCN(CCSC(=N)N)CCSC(=N)N               ...         \n",
       "Br.Br.Br.CCN(CCSC(=N)N)CCSC(=N)N                         ...         \n",
       "Br.Br.Br.CN(CCSC(=N)N)CCSC(=N)N                          ...         \n",
       "Br.Br.Br.CNc1cnc(C)c(N)c1CSC(=N)N                        ...         \n",
       "Br.Br.Br.COc1ccc2[nH]cc(CCNC(=O)C(N)CSSCC(N)C(=...       ...         \n",
       "\n",
       "                                                    o_rbt_orl_LD  \\\n",
       "Br.Br.Br.Br.N=C(N)SCCN(CCSC(=N)N)CCSC(=N)N                   NaN   \n",
       "Br.Br.Br.CCN(CCSC(=N)N)CCSC(=N)N                             NaN   \n",
       "Br.Br.Br.CN(CCSC(=N)N)CCSC(=N)N                              NaN   \n",
       "Br.Br.Br.CNc1cnc(C)c(N)c1CSC(=N)N                            NaN   \n",
       "Br.Br.Br.COc1ccc2[nH]cc(CCNC(=O)C(N)CSSCC(N)C(=...           NaN   \n",
       "\n",
       "                                                    o_rbt_ivn_LD  \\\n",
       "Br.Br.Br.Br.N=C(N)SCCN(CCSC(=N)N)CCSC(=N)N                   NaN   \n",
       "Br.Br.Br.CCN(CCSC(=N)N)CCSC(=N)N                             NaN   \n",
       "Br.Br.Br.CN(CCSC(=N)N)CCSC(=N)N                              NaN   \n",
       "Br.Br.Br.CNc1cnc(C)c(N)c1CSC(=N)N                            NaN   \n",
       "Br.Br.Br.COc1ccc2[nH]cc(CCNC(=O)C(N)CSSCC(N)C(=...           NaN   \n",
       "\n",
       "                                                    o_rat_ivn_LD  \\\n",
       "Br.Br.Br.Br.N=C(N)SCCN(CCSC(=N)N)CCSC(=N)N                   NaN   \n",
       "Br.Br.Br.CCN(CCSC(=N)N)CCSC(=N)N                             NaN   \n",
       "Br.Br.Br.CN(CCSC(=N)N)CCSC(=N)N                              NaN   \n",
       "Br.Br.Br.CNc1cnc(C)c(N)c1CSC(=N)N                            NaN   \n",
       "Br.Br.Br.COc1ccc2[nH]cc(CCNC(=O)C(N)CSSCC(N)C(=...           NaN   \n",
       "\n",
       "                                                    o_mus_orl_LDLo  \\\n",
       "Br.Br.Br.Br.N=C(N)SCCN(CCSC(=N)N)CCSC(=N)N                     NaN   \n",
       "Br.Br.Br.CCN(CCSC(=N)N)CCSC(=N)N                               NaN   \n",
       "Br.Br.Br.CN(CCSC(=N)N)CCSC(=N)N                                NaN   \n",
       "Br.Br.Br.CNc1cnc(C)c(N)c1CSC(=N)N                              NaN   \n",
       "Br.Br.Br.COc1ccc2[nH]cc(CCNC(=O)C(N)CSSCC(N)C(=...             NaN   \n",
       "\n",
       "                                                    o_rat_skn_LD  \\\n",
       "Br.Br.Br.Br.N=C(N)SCCN(CCSC(=N)N)CCSC(=N)N                   NaN   \n",
       "Br.Br.Br.CCN(CCSC(=N)N)CCSC(=N)N                             NaN   \n",
       "Br.Br.Br.CN(CCSC(=N)N)CCSC(=N)N                              NaN   \n",
       "Br.Br.Br.CNc1cnc(C)c(N)c1CSC(=N)N                            NaN   \n",
       "Br.Br.Br.COc1ccc2[nH]cc(CCNC(=O)C(N)CSSCC(N)C(=...           NaN   \n",
       "\n",
       "                                                    o_mam_unr_LD  \\\n",
       "Br.Br.Br.Br.N=C(N)SCCN(CCSC(=N)N)CCSC(=N)N                   NaN   \n",
       "Br.Br.Br.CCN(CCSC(=N)N)CCSC(=N)N                             NaN   \n",
       "Br.Br.Br.CN(CCSC(=N)N)CCSC(=N)N                              NaN   \n",
       "Br.Br.Br.CNc1cnc(C)c(N)c1CSC(=N)N                            NaN   \n",
       "Br.Br.Br.COc1ccc2[nH]cc(CCNC(=O)C(N)CSSCC(N)C(=...           NaN   \n",
       "\n",
       "                                                    o_gpg_orl_LD  \\\n",
       "Br.Br.Br.Br.N=C(N)SCCN(CCSC(=N)N)CCSC(=N)N                   NaN   \n",
       "Br.Br.Br.CCN(CCSC(=N)N)CCSC(=N)N                             NaN   \n",
       "Br.Br.Br.CN(CCSC(=N)N)CCSC(=N)N                              NaN   \n",
       "Br.Br.Br.CNc1cnc(C)c(N)c1CSC(=N)N                            NaN   \n",
       "Br.Br.Br.COc1ccc2[nH]cc(CCNC(=O)C(N)CSSCC(N)C(=...           NaN   \n",
       "\n",
       "                                                    o_wmn_orl_TDLo  \\\n",
       "Br.Br.Br.Br.N=C(N)SCCN(CCSC(=N)N)CCSC(=N)N                     NaN   \n",
       "Br.Br.Br.CCN(CCSC(=N)N)CCSC(=N)N                               NaN   \n",
       "Br.Br.Br.CN(CCSC(=N)N)CCSC(=N)N                                NaN   \n",
       "Br.Br.Br.CNc1cnc(C)c(N)c1CSC(=N)N                              NaN   \n",
       "Br.Br.Br.COc1ccc2[nH]cc(CCNC(=O)C(N)CSSCC(N)C(=...             NaN   \n",
       "\n",
       "                                                    o_man_orl_TDLo  \\\n",
       "Br.Br.Br.Br.N=C(N)SCCN(CCSC(=N)N)CCSC(=N)N                     NaN   \n",
       "Br.Br.Br.CCN(CCSC(=N)N)CCSC(=N)N                               NaN   \n",
       "Br.Br.Br.CN(CCSC(=N)N)CCSC(=N)N                                NaN   \n",
       "Br.Br.Br.CNc1cnc(C)c(N)c1CSC(=N)N                              NaN   \n",
       "Br.Br.Br.COc1ccc2[nH]cc(CCNC(=O)C(N)CSSCC(N)C(=...             NaN   \n",
       "\n",
       "                                                    o_rat_scu_TDLo  \n",
       "Br.Br.Br.Br.N=C(N)SCCN(CCSC(=N)N)CCSC(=N)N                     NaN  \n",
       "Br.Br.Br.CCN(CCSC(=N)N)CCSC(=N)N                               NaN  \n",
       "Br.Br.Br.CN(CCSC(=N)N)CCSC(=N)N                                NaN  \n",
       "Br.Br.Br.CNc1cnc(C)c(N)c1CSC(=N)N                              NaN  \n",
       "Br.Br.Br.COc1ccc2[nH]cc(CCNC(=O)C(N)CSSCC(N)C(=...             NaN  \n",
       "\n",
       "[5 rows x 29 columns]"
      ]
     },
     "execution_count": 6,
     "metadata": {},
     "output_type": "execute_result"
    }
   ],
   "source": [
    "df.head()"
   ]
  },
  {
   "cell_type": "code",
   "execution_count": 5,
   "metadata": {},
   "outputs": [
    {
     "data": {
      "text/plain": [
       "array([13.384261, 12.092147,  0.      , ..., 78.      ,  0.      ,\n",
       "        4.5     ], dtype=float32)"
      ]
     },
     "execution_count": 5,
     "metadata": {},
     "output_type": "execute_result"
    }
   ],
   "source": [
    "smiles2descriptors[\"Br.Br.Br.Br.N=C(N)SCCN(CCSC(=N)N)CCSC(=N)N\"]"
   ]
  },
  {
   "cell_type": "code",
   "execution_count": 7,
   "metadata": {},
   "outputs": [],
   "source": [
    "smiles = list(df.index)"
   ]
  },
  {
   "cell_type": "code",
   "execution_count": 8,
   "metadata": {},
   "outputs": [],
   "source": [
    "y = df.values"
   ]
  },
  {
   "cell_type": "code",
   "execution_count": 9,
   "metadata": {},
   "outputs": [
    {
     "data": {
      "text/plain": [
       "(85832, 29)"
      ]
     },
     "execution_count": 9,
     "metadata": {},
     "output_type": "execute_result"
    }
   ],
   "source": [
    "y.shape"
   ]
  },
  {
   "cell_type": "code",
   "execution_count": 10,
   "metadata": {},
   "outputs": [],
   "source": [
    "x = np.vstack(list(smiles2descriptors.values()))"
   ]
  },
  {
   "cell_type": "code",
   "execution_count": 243,
   "metadata": {},
   "outputs": [],
   "source": [
    "temp_df = pd.read_csv(\"db_endpoints.csv\")"
   ]
  },
  {
   "cell_type": "code",
   "execution_count": null,
   "metadata": {},
   "outputs": [],
   "source": [
    "temp_df"
   ]
  },
  {
   "cell_type": "code",
   "execution_count": 251,
   "metadata": {},
   "outputs": [],
   "source": [
    "smiles_temp = list(temp_df[temp_df.columns[0]])"
   ]
  },
  {
   "cell_type": "code",
   "execution_count": 257,
   "metadata": {},
   "outputs": [],
   "source": [
    "del temp_df[temp_df.columns[0]]"
   ]
  },
  {
   "cell_type": "code",
   "execution_count": 259,
   "metadata": {},
   "outputs": [
    {
     "data": {
      "text/plain": [
       "array([[4.41,  nan,  nan, ...,  nan,  nan,  nan],\n",
       "       [3.99,  nan,  nan, ...,  nan,  nan,  nan],\n",
       "       [3.8 ,  nan,  nan, ...,  nan,  nan,  nan],\n",
       "       ...,\n",
       "       [2.26,  nan,  nan, ...,  nan,  nan,  nan],\n",
       "       [2.7 ,  nan,  nan, ...,  nan,  nan,  nan],\n",
       "       [ nan,  nan,  nan, ...,  nan,  nan,  nan]])"
      ]
     },
     "execution_count": 259,
     "metadata": {},
     "output_type": "execute_result"
    }
   ],
   "source": [
    "temp_df.values"
   ]
  },
  {
   "cell_type": "code",
   "execution_count": null,
   "metadata": {},
   "outputs": [],
   "source": []
  },
  {
   "cell_type": "code",
   "execution_count": null,
   "metadata": {},
   "outputs": [],
   "source": []
  },
  {
   "cell_type": "code",
   "execution_count": null,
   "metadata": {},
   "outputs": [],
   "source": []
  },
  {
   "cell_type": "code",
   "execution_count": null,
   "metadata": {},
   "outputs": [],
   "source": []
  },
  {
   "cell_type": "code",
   "execution_count": null,
   "metadata": {},
   "outputs": [],
   "source": []
  },
  {
   "cell_type": "code",
   "execution_count": null,
   "metadata": {},
   "outputs": [],
   "source": []
  },
  {
   "cell_type": "code",
   "execution_count": null,
   "metadata": {},
   "outputs": [],
   "source": []
  },
  {
   "cell_type": "code",
   "execution_count": 11,
   "metadata": {},
   "outputs": [
    {
     "data": {
      "text/plain": [
       "(85832, 1826)"
      ]
     },
     "execution_count": 11,
     "metadata": {},
     "output_type": "execute_result"
    }
   ],
   "source": [
    "x.shape"
   ]
  },
  {
   "cell_type": "code",
   "execution_count": 151,
   "metadata": {},
   "outputs": [],
   "source": [
    "class OurRobustToNanScaler():\n",
    "    \"\"\"\n",
    "    This class is equal to StandardScaler from sklearn but can work with NaN's (ignoring it) but\n",
    "    sklearn's scaler can't do it.\n",
    "    \"\"\"\n",
    "\n",
    "    def fit(self, data):\n",
    "        masked = ma.masked_invalid(data)\n",
    "        self.means = np.mean(masked, axis=0)\n",
    "        self.stds = np.std(masked, axis=0)\n",
    "\n",
    "    def fit_transform(self, data):\n",
    "        self.fit(data)\n",
    "        masked = ma.masked_invalid(data)\n",
    "        masked -= self.means\n",
    "        masked /= self.stds\n",
    "        return ma.getdata(masked)\n",
    "\n",
    "    def inverse_transform(self, data):\n",
    "        masked = ma.masked_invalid(data)\n",
    "        masked *= self.stds\n",
    "        masked += self.means\n",
    "        return ma.getdata(masked)\n"
   ]
  },
  {
   "cell_type": "code",
   "execution_count": 152,
   "metadata": {},
   "outputs": [],
   "source": [
    "input_scaler = OurRobustToNanScaler()\n",
    "output_scaler = OurRobustToNanScaler()\n"
   ]
  },
  {
   "cell_type": "code",
   "execution_count": 240,
   "metadata": {},
   "outputs": [],
   "source": [
    "import pickle"
   ]
  },
  {
   "cell_type": "code",
   "execution_count": 241,
   "metadata": {},
   "outputs": [],
   "source": [
    "with open(\"input_scaler.pk\", 'wb') as f:\n",
    "    pickle.dump(input_scaler, f)"
   ]
  },
  {
   "cell_type": "code",
   "execution_count": 242,
   "metadata": {},
   "outputs": [],
   "source": [
    "with open(\"output_scaler.pk\", 'wb') as f:\n",
    "    pickle.dump(input_scaler, f)"
   ]
  },
  {
   "cell_type": "code",
   "execution_count": null,
   "metadata": {},
   "outputs": [],
   "source": []
  },
  {
   "cell_type": "code",
   "execution_count": 203,
   "metadata": {},
   "outputs": [],
   "source": [
    "x = np.load(\"morded112.npy\")"
   ]
  },
  {
   "cell_type": "code",
   "execution_count": 179,
   "metadata": {},
   "outputs": [
    {
     "data": {
      "text/plain": [
       "'Br.Br.Br.Br.N=C(N)SCCN(CCSC(=N)N)CCSC(=N)N'"
      ]
     },
     "execution_count": 179,
     "metadata": {},
     "output_type": "execute_result"
    }
   ],
   "source": [
    "smiles[0]"
   ]
  },
  {
   "cell_type": "code",
   "execution_count": 181,
   "metadata": {},
   "outputs": [],
   "source": [
    "from descriptors import morded"
   ]
  },
  {
   "cell_type": "code",
   "execution_count": 182,
   "metadata": {},
   "outputs": [
    {
     "data": {
      "text/plain": [
       "array([[13.384261, 12.092147,  0.      , ..., 78.      ,  0.      ,\n",
       "         4.5     ]], dtype=float32)"
      ]
     },
     "execution_count": 182,
     "metadata": {},
     "output_type": "execute_result"
    }
   ],
   "source": [
    "morded(smiles[0])"
   ]
  },
  {
   "cell_type": "code",
   "execution_count": 188,
   "metadata": {},
   "outputs": [
    {
     "data": {
      "text/plain": [
       "array([13.384261, 12.092147,  0.      , ..., 78.      ,  0.      ,\n",
       "        4.5     ], dtype=float32)"
      ]
     },
     "execution_count": 188,
     "metadata": {},
     "output_type": "execute_result"
    }
   ],
   "source": [
    "smiles2descriptors[smiles[0]]"
   ]
  },
  {
   "cell_type": "code",
   "execution_count": 186,
   "metadata": {},
   "outputs": [
    {
     "data": {
      "text/plain": [
       "True"
      ]
     },
     "execution_count": 186,
     "metadata": {},
     "output_type": "execute_result"
    }
   ],
   "source": [
    "(x[0,:]==morded(smiles[0])).all()"
   ]
  },
  {
   "cell_type": "code",
   "execution_count": 187,
   "metadata": {},
   "outputs": [
    {
     "data": {
      "text/plain": [
       "True"
      ]
     },
     "execution_count": 187,
     "metadata": {},
     "output_type": "execute_result"
    }
   ],
   "source": [
    "(x[-1,:]==morded(smiles[-1])).all()"
   ]
  },
  {
   "cell_type": "code",
   "execution_count": null,
   "metadata": {},
   "outputs": [],
   "source": []
  },
  {
   "cell_type": "code",
   "execution_count": 204,
   "metadata": {},
   "outputs": [],
   "source": [
    "x = input_scaler.fit_transform(x)"
   ]
  },
  {
   "cell_type": "code",
   "execution_count": null,
   "metadata": {},
   "outputs": [],
   "source": []
  },
  {
   "cell_type": "code",
   "execution_count": 210,
   "metadata": {},
   "outputs": [],
   "source": [
    "y = df.values"
   ]
  },
  {
   "cell_type": "code",
   "execution_count": 211,
   "metadata": {},
   "outputs": [],
   "source": [
    "y = output_scaler.fit_transform(y)"
   ]
  },
  {
   "cell_type": "code",
   "execution_count": null,
   "metadata": {},
   "outputs": [],
   "source": [
    "df.to_csv(\"df\")"
   ]
  },
  {
   "cell_type": "code",
   "execution_count": null,
   "metadata": {},
   "outputs": [],
   "source": [
    "from "
   ]
  },
  {
   "cell_type": "code",
   "execution_count": 212,
   "metadata": {},
   "outputs": [],
   "source": [
    "import torch\n",
    "import torch.nn as nn\n",
    "import torch.nn.functional as F\n",
    "import torch.optim as optim\n",
    "class LinearLayer(nn.Module):\n",
    "    def __init__(self, size_in, size_out, p=0.5):\n",
    "        super(LinearLayer, self).__init__()\n",
    "        self.size_in = size_in\n",
    "        self.size_out = size_out\n",
    "        self.p = p\n",
    "        self.fc = nn.Linear(self.size_in, self.size_out)\n",
    "        self.dropout = nn.Dropout(self.p)\n",
    "        self.relu = nn.ReLU()\n",
    "        self.batchnorm = nn.BatchNorm1d(size_out)\n",
    "        nn.init.xavier_uniform_(self.fc.weight)\n",
    "        self.fc.bias.data.fill_(0.01)\n",
    "    def forward(self, x):\n",
    "        return self.dropout(self.relu(self.batchnorm(self.fc(x))))\n",
    "class MLP(nn.Module):\n",
    "    def __init__(self):\n",
    "        super(MLP, self).__init__()\n",
    "        self.linear1 = LinearLayer(1825, 512, 0.5)\n",
    "        self.linear2 = LinearLayer(512, 256, 0.5)\n",
    "        self.linear3 = LinearLayer(256, 128, 0.5)\n",
    "        self.linear4 = LinearLayer(128, 64, 0.5)\n",
    "        self.linear5 = LinearLayer(64, 32, 0.5)\n",
    "        self.linear6 = LinearLayer(32, 29, 0.1)\n",
    "        self.linear7 = LinearLayer(29, 29, 0.0)\n",
    "        self.layers = [self.linear1,self.linear2, self.linear3, self.linear4, self.linear5,self.linear6,self.linear7]\n",
    "    def forward(self, x):\n",
    "        output = x\n",
    "        for layer in self.layers:\n",
    "            output = layer(output)\n",
    "        return output\n",
    "device = torch.device('cuda:0')\n",
    "model = MLP().to(device)\n",
    "optimizer = optim.Adam(model.parameters(), lr=0.00005)"
   ]
  },
  {
   "cell_type": "code",
   "execution_count": 201,
   "metadata": {},
   "outputs": [],
   "source": []
  },
  {
   "cell_type": "code",
   "execution_count": 213,
   "metadata": {},
   "outputs": [],
   "source": [
    "from sklearn.model_selection import train_test_split\n",
    "X_train, X_test, y_train, y_test = train_test_split(x, y, test_size=0.2, random_state=42)"
   ]
  },
  {
   "cell_type": "code",
   "execution_count": 195,
   "metadata": {},
   "outputs": [
    {
     "data": {
      "text/plain": [
       "(1825,)"
      ]
     },
     "execution_count": 195,
     "metadata": {},
     "output_type": "execute_result"
    }
   ],
   "source": [
    "X_train[0].shape"
   ]
  },
  {
   "cell_type": "code",
   "execution_count": 214,
   "metadata": {},
   "outputs": [],
   "source": [
    "from torch.utils.data import Dataset, DataLoader"
   ]
  },
  {
   "cell_type": "code",
   "execution_count": 215,
   "metadata": {},
   "outputs": [],
   "source": [
    "class ToxicDataset(Dataset):\n",
    "    def __init__(self, x, y):\n",
    "        self.x = x\n",
    "        self.y = y\n",
    "        self.mask = ~ma.masked_invalid(self.y).mask\n",
    "        self.y = np.nan_to_num(self.y)\n",
    "    def __len__(self):\n",
    "        return len(self.x)\n",
    "\n",
    "    def __getitem__(self, idx):\n",
    "        return (torch.from_numpy(self.x[idx]),torch.from_numpy(self.y[idx]),torch.from_numpy(self.mask[idx]))\n",
    "\n",
    "train_dataset = ToxicDataset(X_train, y_train)\n",
    "train_loader = torch.utils.data.DataLoader(train_dataset, batch_size=512, shuffle=True)\n",
    "\n",
    "\n",
    "test_dataset = ToxicDataset(X_test, y_test)\n",
    "test_loader = torch.utils.data.DataLoader(test_dataset, batch_size=512, shuffle=False)\n"
   ]
  },
  {
   "cell_type": "code",
   "execution_count": 216,
   "metadata": {},
   "outputs": [],
   "source": [
    "\n"
   ]
  },
  {
   "cell_type": "code",
   "execution_count": 217,
   "metadata": {},
   "outputs": [],
   "source": [
    "log_file = open(\"log.txt\", 'w')"
   ]
  },
  {
   "cell_type": "code",
   "execution_count": 218,
   "metadata": {},
   "outputs": [],
   "source": [
    "def train(epoch):\n",
    "    model.train()\n",
    "    losses = []\n",
    "    for batch_idx, (x, y, mask) in enumerate(train_loader):\n",
    "        #x = x.reshape(-1, max_len*512)\n",
    "        x, y, mask = x.to(device,), y.to(device), mask.to(device)\n",
    "        x = x.float()\n",
    "        y = y.float()\n",
    "        mask = mask.float()\n",
    "        optimizer.zero_grad()\n",
    "        output = model(x)\n",
    "        output.squeeze_(dim=1)\n",
    "        \n",
    "        loss_func = nn.MSELoss()\n",
    "        loss= loss_func(mask*output, mask*y)\n",
    "        losses.append(loss.item())\n",
    "        loss.backward()\n",
    "        optimizer.step()\n",
    "\n",
    "        #if batch_idx % 1000 == 0:\n",
    "        #    print('Train Epoch: {} [{}/{} ({:.0f}%)]\\tLoss: {:.6f}'.format(\n",
    "        #        epoch, batch_idx * len(x), len(train_loader.dataset),\n",
    "        #        100. * batch_idx / len(train_loader), sum(losses)/len(losses)),flush=True)\n",
    "    return sum(losses)/len(losses)\n",
    "def test(epoch):\n",
    "    model.eval()\n",
    "    losses = []\n",
    "    for batch_idx, (x, y, mask) in enumerate(test_loader):\n",
    "        x, y, mask = x.to(device), y.to(device), mask.to(device)\n",
    "        x = x.float()\n",
    "        y = y.float()\n",
    "        mask = mask.float()\n",
    "        \n",
    "        # print(\"x_shape: \", x.shape)\n",
    "        # pеrint(\"y_shape: \", y.shape)\n",
    "\n",
    "        output = model(x)\n",
    "        output.squeeze_(dim=1)\n",
    "        # print(output.shape)\n",
    "        # print(y.shape)\n",
    "        # print(output)\n",
    "        # print(y)\n",
    "\n",
    "        loss_func = nn.MSELoss()\n",
    "        loss = loss_func(mask*output, mask*y)\n",
    "        losses.append(loss.item())\n",
    "\n",
    "        #if batch_idx % 200 == 0:\n",
    "        #    print('Test Epoch: {} [{}/{} ({:.0f}%)]\\tLoss: {:.6f}'.format(\n",
    "        #        epoch, batch_idx * len(x), len(test_loader.dataset),\n",
    "        #               100. * batch_idx / len(test_loader), sum(losses) / len(losses)),flush=True)\n",
    "    return sum(losses)/len(losses)\n",
    "for epoch in range(1, 5000 + 1):\n",
    "    loss = train(epoch)\n",
    "    log_file.write(\"Epoch{} \".format(epoch))\n",
    "    log_file.write(str(loss))\n",
    "    log_file.write(\"\\n\")\n",
    "    if epoch%10==0:\n",
    "        torch.save(model.state_dict(), \"ckpt/mlp_epoch{}.pt\".format(epoch))\n",
    "    loss = test(epoch)\n",
    "    log_file.write(\"Epoch{} \".format(epoch))\n",
    "    log_file.write(str(loss))\n",
    "    log_file.write(\"\\n\")\n",
    "    log_file.flush()"
   ]
  },
  {
   "cell_type": "code",
   "execution_count": null,
   "metadata": {},
   "outputs": [],
   "source": []
  },
  {
   "cell_type": "code",
   "execution_count": 61,
   "metadata": {},
   "outputs": [
    {
     "name": "stdout",
     "output_type": "stream",
     "text": [
      "torch.float32\n",
      "torch.float64\n",
      "torch.float64\n"
     ]
    },
    {
     "ename": "RuntimeError",
     "evalue": "The size of tensor a (29) must match the size of tensor b (1826) at non-singleton dimension 1",
     "output_type": "error",
     "traceback": [
      "\u001b[0;31m---------------------------------------------------------------------------\u001b[0m",
      "\u001b[0;31mRuntimeError\u001b[0m                              Traceback (most recent call last)",
      "\u001b[0;32m<ipython-input-61-18d80dba3be4>\u001b[0m in \u001b[0;36m<module>\u001b[0;34m\u001b[0m\n\u001b[1;32m      6\u001b[0m     \u001b[0mprint\u001b[0m\u001b[0;34m(\u001b[0m\u001b[0my\u001b[0m\u001b[0;34m.\u001b[0m\u001b[0mdtype\u001b[0m\u001b[0;34m)\u001b[0m\u001b[0;34m\u001b[0m\u001b[0;34m\u001b[0m\u001b[0m\n\u001b[1;32m      7\u001b[0m     \u001b[0mprint\u001b[0m\u001b[0;34m(\u001b[0m\u001b[0mmask\u001b[0m\u001b[0;34m.\u001b[0m\u001b[0mdtype\u001b[0m\u001b[0;34m)\u001b[0m\u001b[0;34m\u001b[0m\u001b[0;34m\u001b[0m\u001b[0m\n\u001b[0;32m----> 8\u001b[0;31m     \u001b[0mprint\u001b[0m\u001b[0;34m(\u001b[0m\u001b[0;34m(\u001b[0m\u001b[0mmask\u001b[0m\u001b[0;34m*\u001b[0m\u001b[0mx\u001b[0m\u001b[0;34m)\u001b[0m\u001b[0;34m.\u001b[0m\u001b[0mdtype\u001b[0m\u001b[0;34m)\u001b[0m\u001b[0;34m\u001b[0m\u001b[0;34m\u001b[0m\u001b[0m\n\u001b[0m\u001b[1;32m      9\u001b[0m     \u001b[0;32mbreak\u001b[0m\u001b[0;34m\u001b[0m\u001b[0;34m\u001b[0m\u001b[0m\n",
      "\u001b[0;31mRuntimeError\u001b[0m: The size of tensor a (29) must match the size of tensor b (1826) at non-singleton dimension 1"
     ]
    }
   ],
   "source": [
    "for batch_idx, (x, y, mask) in enumerate(train_loader):\n",
    "    #x = x.reshape(-1, max_len*512)\n",
    "    x, y, mask = x.to(device,), y.to(device), mask.to(device)\n",
    "    x = \n",
    "    mask = mask.double()\n",
    "    print(x.dtype)\n",
    "    print(y.dtype)\n",
    "    print(mask.dtype)\n",
    "    print((mask*x).dtype)\n",
    "    break"
   ]
  },
  {
   "cell_type": "code",
   "execution_count": null,
   "metadata": {},
   "outputs": [],
   "source": [
    "\n",
    "def test_eval(epoch):\n",
    "    model.eval()\n",
    "    losses = []\n",
    "    for batch_idx, (x, y, mask) in enumerate(test_loader):\n",
    "        x, y, mask = x.to(device), y.to(device), mask.to(device)\n",
    "        x = x.float()\n",
    "        y = y.float()\n",
    "        mask = mask.float()\n",
    "        \n",
    "        # print(\"x_shape: \", x.shape)\n",
    "        # pеrint(\"y_shape: \", y.shape)\n",
    "\n",
    "        output = model(x)\n",
    "        output.squeeze_(dim=1)\n",
    "        # print(output.shape)\n",
    "        # print(y.shape)\n",
    "        # print(output)\n",
    "        # print(y)\n",
    "\n",
    "        loss_func = nn.MSELoss()\n",
    "        loss = loss_func(mask*output, mask*y)\n",
    "        losses.append(loss.item())\n",
    "\n",
    "        #if batch_idx % 200 == 0:\n",
    "        #    print('Test Epoch: {} [{}/{} ({:.0f}%)]\\tLoss: {:.6f}'.format(\n",
    "        #        epoch, batch_idx * len(x), len(test_loader.dataset),\n",
    "        #               100. * batch_idx / len(test_loader), sum(losses) / len(losses)),flush=True)\n",
    "    return sum(losses)/len(losses)"
   ]
  },
  {
   "cell_type": "code",
   "execution_count": 226,
   "metadata": {},
   "outputs": [],
   "source": [
    "model.eval()\n",
    "x_s = []\n",
    "y_s = []\n",
    "masks = []\n",
    "outputs =[]\n",
    "for batch_idx, (x, y, mask) in enumerate(test_loader):\n",
    "    x, y, mask = x.to(device), y.to(device), mask.to(device)\n",
    "    x = x.float()\n",
    "    y = y.float()\n",
    "    mask = mask.float()\n",
    "    x_s.append(x.detach().cpu().numpy())\n",
    "    y_s.append(y.detach().cpu().numpy())\n",
    "    masks.append(mask.detach().cpu().numpy())\n",
    "    output = model(x)\n",
    "    outputs.append(output.detach().cpu().numpy())"
   ]
  },
  {
   "cell_type": "code",
   "execution_count": 227,
   "metadata": {},
   "outputs": [],
   "source": [
    "x_s = np.vstack(x_s)\n",
    "y_s = np.vstack(y_s)\n",
    "masks = np.vstack(masks)\n",
    "outputs = np.vstack(outputs)"
   ]
  },
  {
   "cell_type": "code",
   "execution_count": 228,
   "metadata": {},
   "outputs": [],
   "source": [
    "masks = np.array(masks, dtype= bool)"
   ]
  },
  {
   "cell_type": "code",
   "execution_count": null,
   "metadata": {},
   "outputs": [],
   "source": []
  },
  {
   "cell_type": "code",
   "execution_count": 235,
   "metadata": {},
   "outputs": [],
   "source": [
    "y_s[~masks] = np.nan\n",
    "\n",
    "outputs[~masks]= np.nan\n",
    "\n",
    "y_s = output_scaler.inverse_transform(y_s)\n",
    "\n",
    "output_scaler = output_scaler.inverse_transform(outputs)"
   ]
  },
  {
   "cell_type": "code",
   "execution_count": null,
   "metadata": {},
   "outputs": [],
   "source": []
  },
  {
   "cell_type": "code",
   "execution_count": 236,
   "metadata": {},
   "outputs": [],
   "source": [
    "def mse(y_true, y_pred):\n",
    "    return np.mean((y_true- y_pred)**2)"
   ]
  },
  {
   "cell_type": "code",
   "execution_count": 237,
   "metadata": {},
   "outputs": [],
   "source": [
    "mse_for_diff_endpoints = []\n",
    "for i in range(y_s.shape[1]):\n",
    "    mse_for_diff_endpoints.append(mse((masks*y_s)[:, i][np.array(masks[:,i], dtype = bool)],(masks*outputs)[:, i][np.array(masks[:,i], dtype = bool)]) )"
   ]
  },
  {
   "cell_type": "code",
   "execution_count": 266,
   "metadata": {},
   "outputs": [],
   "source": [
    "from sklearn.metrics import r2_score\n",
    "r2score_for_diff_endpoints = []\n",
    "for i in range(y_s.shape[1]):\n",
    "    r2score_for_diff_endpoints.append(r2_score((masks*y_s)[:, i][np.array(masks[:,i], dtype = bool)],(masks*outputs)[:, i][np.array(masks[:,i], dtype = bool)]) )"
   ]
  },
  {
   "cell_type": "code",
   "execution_count": 132,
   "metadata": {},
   "outputs": [],
   "source": [
    "mse_for_diff_endpoints = []\n",
    "for i in range(y_s.shape[1]):\n",
    "    mse_for_diff_endpoints.append(mse((masks*y_s)[:, i],(masks*outputs)[:, i]) )"
   ]
  },
  {
   "cell_type": "code",
   "execution_count": 267,
   "metadata": {},
   "outputs": [
    {
     "data": {
      "text/plain": [
       "[-15.513023563271297,\n",
       " -8.230352505945678,\n",
       " -14.914942654907145,\n",
       " -14.442126030348946,\n",
       " -13.323702946088114,\n",
       " -21.610752091413385,\n",
       " -9.346887701028985,\n",
       " -16.072077409680627,\n",
       " -8.497139378350447,\n",
       " -7.42666014616781,\n",
       " -11.815667771500086,\n",
       " -5.423776724669832,\n",
       " -10.120581121183442,\n",
       " -17.880442631354576,\n",
       " -12.659827467641493,\n",
       " -6.277373315336609,\n",
       " -6.338308309636158,\n",
       " -10.61027340724174,\n",
       " -6.866735046183721,\n",
       " -8.71164993234454,\n",
       " -8.982397131851993,\n",
       " -9.550969927775812,\n",
       " -11.504351814935207,\n",
       " -7.355407185670087,\n",
       " -15.475211992231834,\n",
       " -3.9984337230669382,\n",
       " -9.75831398550138,\n",
       " -7.314356951420379,\n",
       " -11.951533530902887]"
      ]
     },
     "execution_count": 267,
     "metadata": {},
     "output_type": "execute_result"
    }
   ],
   "source": [
    "r2score_for_diff_endpoints"
   ]
  },
  {
   "cell_type": "code",
   "execution_count": null,
   "metadata": {},
   "outputs": [],
   "source": []
  },
  {
   "cell_type": "code",
   "execution_count": null,
   "metadata": {},
   "outputs": [],
   "source": []
  },
  {
   "cell_type": "code",
   "execution_count": null,
   "metadata": {},
   "outputs": [],
   "source": []
  },
  {
   "cell_type": "code",
   "execution_count": 271,
   "metadata": {},
   "outputs": [],
   "source": [
    "with open(\"mse_r2.txt\", \"w\") as f:\n",
    "    for type, mse, r2_score_val in zip (list(df.columns), mse_for_diff_endpoints, r2score_for_diff_endpoints):\n",
    "        f.write(type+\" \"+ str(mse)+\" \"+str(r2_score_val)+\"\\n\")"
   ]
  },
  {
   "cell_type": "code",
   "execution_count": null,
   "metadata": {},
   "outputs": [],
   "source": []
  },
  {
   "cell_type": "code",
   "execution_count": 238,
   "metadata": {},
   "outputs": [
    {
     "data": {
      "text/plain": [
       "[8.379019,\n",
       " 16.341059,\n",
       " 9.7987,\n",
       " 18.195963,\n",
       " 20.781704,\n",
       " 13.091166,\n",
       " 9.100436,\n",
       " 5.973465,\n",
       " 8.024556,\n",
       " 7.618749,\n",
       " 10.012424,\n",
       " 8.63042,\n",
       " 9.259889,\n",
       " 9.937033,\n",
       " 20.191845,\n",
       " 3.9741356,\n",
       " 5.773755,\n",
       " 30.02434,\n",
       " 6.8971095,\n",
       " 6.062716,\n",
       " 18.081434,\n",
       " 13.501424,\n",
       " 6.8952975,\n",
       " 5.169603,\n",
       " 6.8628,\n",
       " 7.353192,\n",
       " 18.700832,\n",
       " 17.808025,\n",
       " 27.85087]"
      ]
     },
     "execution_count": 238,
     "metadata": {},
     "output_type": "execute_result"
    }
   ],
   "source": [
    "mse_for_diff_endpoints"
   ]
  },
  {
   "cell_type": "code",
   "execution_count": 94,
   "metadata": {},
   "outputs": [
    {
     "data": {
      "text/plain": [
       "(17167,)"
      ]
     },
     "execution_count": 94,
     "metadata": {},
     "output_type": "execute_result"
    }
   ],
   "source": [
    "(masks*y_s)[:, 0].shape"
   ]
  },
  {
   "cell_type": "code",
   "execution_count": 93,
   "metadata": {},
   "outputs": [
    {
     "data": {
      "text/plain": [
       "[2.4599009,\n",
       " 4.1211667,\n",
       " 3.254926,\n",
       " 4.346537,\n",
       " 4.654204,\n",
       " 3.38631,\n",
       " 3.1354077,\n",
       " 2.2443123,\n",
       " 3.0488715,\n",
       " 2.991999,\n",
       " 3.2503185,\n",
       " 3.1215994,\n",
       " 3.0746663,\n",
       " 3.3013237,\n",
       " 4.6194735,\n",
       " 2.09643,\n",
       " 2.458603,\n",
       " 5.550138,\n",
       " 2.8488564,\n",
       " 2.604922,\n",
       " 4.387722,\n",
       " 3.8550618,\n",
       " 2.8000438,\n",
       " 2.4127805,\n",
       " 2.7471344,\n",
       " 2.9232857,\n",
       " 4.420727,\n",
       " 4.3541155,\n",
       " 5.3316245]"
      ]
     },
     "execution_count": 93,
     "metadata": {},
     "output_type": "execute_result"
    }
   ],
   "source": [
    "mse_for_diff_endpoints"
   ]
  },
  {
   "cell_type": "code",
   "execution_count": null,
   "metadata": {},
   "outputs": [],
   "source": []
  },
  {
   "cell_type": "code",
   "execution_count": 79,
   "metadata": {},
   "outputs": [
    {
     "data": {
      "text/plain": [
       "array([[0., 0., 1., ..., 0., 0., 0.],\n",
       "       [1., 0., 0., ..., 0., 0., 0.],\n",
       "       [0., 0., 1., ..., 0., 0., 0.],\n",
       "       ...,\n",
       "       [1., 0., 0., ..., 0., 0., 0.],\n",
       "       [0., 0., 0., ..., 0., 0., 0.],\n",
       "       [0., 0., 0., ..., 0., 0., 0.]], dtype=float32)"
      ]
     },
     "execution_count": 79,
     "metadata": {},
     "output_type": "execute_result"
    }
   ],
   "source": [
    "masks"
   ]
  },
  {
   "cell_type": "code",
   "execution_count": 239,
   "metadata": {},
   "outputs": [
    {
     "data": {
      "text/plain": [
       "MLP(\n",
       "  (linear1): LinearLayer(\n",
       "    (fc): Linear(in_features=1825, out_features=512, bias=True)\n",
       "    (dropout): Dropout(p=0.5)\n",
       "    (relu): ReLU()\n",
       "    (batchnorm): BatchNorm1d(512, eps=1e-05, momentum=0.1, affine=True, track_running_stats=True)\n",
       "  )\n",
       "  (linear2): LinearLayer(\n",
       "    (fc): Linear(in_features=512, out_features=256, bias=True)\n",
       "    (dropout): Dropout(p=0.5)\n",
       "    (relu): ReLU()\n",
       "    (batchnorm): BatchNorm1d(256, eps=1e-05, momentum=0.1, affine=True, track_running_stats=True)\n",
       "  )\n",
       "  (linear3): LinearLayer(\n",
       "    (fc): Linear(in_features=256, out_features=128, bias=True)\n",
       "    (dropout): Dropout(p=0.5)\n",
       "    (relu): ReLU()\n",
       "    (batchnorm): BatchNorm1d(128, eps=1e-05, momentum=0.1, affine=True, track_running_stats=True)\n",
       "  )\n",
       "  (linear4): LinearLayer(\n",
       "    (fc): Linear(in_features=128, out_features=64, bias=True)\n",
       "    (dropout): Dropout(p=0.5)\n",
       "    (relu): ReLU()\n",
       "    (batchnorm): BatchNorm1d(64, eps=1e-05, momentum=0.1, affine=True, track_running_stats=True)\n",
       "  )\n",
       "  (linear5): LinearLayer(\n",
       "    (fc): Linear(in_features=64, out_features=32, bias=True)\n",
       "    (dropout): Dropout(p=0.5)\n",
       "    (relu): ReLU()\n",
       "    (batchnorm): BatchNorm1d(32, eps=1e-05, momentum=0.1, affine=True, track_running_stats=True)\n",
       "  )\n",
       "  (linear6): LinearLayer(\n",
       "    (fc): Linear(in_features=32, out_features=29, bias=True)\n",
       "    (dropout): Dropout(p=0.1)\n",
       "    (relu): ReLU()\n",
       "    (batchnorm): BatchNorm1d(29, eps=1e-05, momentum=0.1, affine=True, track_running_stats=True)\n",
       "  )\n",
       "  (linear7): LinearLayer(\n",
       "    (fc): Linear(in_features=29, out_features=29, bias=True)\n",
       "    (dropout): Dropout(p=0.0)\n",
       "    (relu): ReLU()\n",
       "    (batchnorm): BatchNorm1d(29, eps=1e-05, momentum=0.1, affine=True, track_running_stats=True)\n",
       "  )\n",
       ")"
      ]
     },
     "execution_count": 239,
     "metadata": {},
     "output_type": "execute_result"
    }
   ],
   "source": [
    "model"
   ]
  },
  {
   "cell_type": "code",
   "execution_count": null,
   "metadata": {},
   "outputs": [],
   "source": []
  },
  {
   "cell_type": "code",
   "execution_count": null,
   "metadata": {},
   "outputs": [],
   "source": []
  },
  {
   "cell_type": "code",
   "execution_count": null,
   "metadata": {},
   "outputs": [],
   "source": []
  },
  {
   "cell_type": "code",
   "execution_count": null,
   "metadata": {},
   "outputs": [],
   "source": []
  },
  {
   "cell_type": "code",
   "execution_count": null,
   "metadata": {},
   "outputs": [],
   "source": []
  },
  {
   "cell_type": "code",
   "execution_count": null,
   "metadata": {},
   "outputs": [],
   "source": []
  }
 ],
 "metadata": {
  "kernelspec": {
   "display_name": "Python 3",
   "language": "python",
   "name": "python3"
  },
  "language_info": {
   "codemirror_mode": {
    "name": "ipython",
    "version": 3
   },
   "file_extension": ".py",
   "mimetype": "text/x-python",
   "name": "python",
   "nbconvert_exporter": "python",
   "pygments_lexer": "ipython3",
   "version": "3.7.1"
  }
 },
 "nbformat": 4,
 "nbformat_minor": 2
}
